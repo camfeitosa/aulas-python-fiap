{
 "cells": [
  {
   "cell_type": "markdown",
   "metadata": {},
   "source": [
    "# Aula 5 = Def com múltiplas saídas\n",
    "Exercícios"
   ]
  },
  {
   "cell_type": "code",
   "execution_count": 1,
   "metadata": {},
   "outputs": [
    {
     "data": {
      "text/plain": [
       "3.5"
      ]
     },
     "execution_count": 1,
     "metadata": {},
     "output_type": "execute_result"
    }
   ],
   "source": [
    "# Def -> sum = soma, len = tamanho\n",
    "lista = [1, 5, 3, 5]\n",
    "\n",
    "def calcular_media(lista):\n",
    "  return sum(lista)/len(lista)\n",
    "\n",
    "media = calcular_media(lista)\n",
    "\n",
    "media\n"
   ]
  },
  {
   "cell_type": "code",
   "execution_count": 3,
   "metadata": {},
   "outputs": [
    {
     "data": {
      "text/plain": [
       "'camila'"
      ]
     },
     "execution_count": 3,
     "metadata": {},
     "output_type": "execute_result"
    }
   ],
   "source": [
    "# Def -> max = maior elemento da lista\n",
    "lista = [1, 5, 3, 5]\n",
    "\n",
    "def maior_numero(lista):\n",
    "  return max(lista)\n",
    "\n",
    "maior = maior_numero(lista)\n",
    "\n",
    "maior"
   ]
  },
  {
   "cell_type": "code",
   "execution_count": 8,
   "metadata": {},
   "outputs": [
    {
     "name": "stdout",
     "output_type": "stream",
     "text": [
      "[1, 5, 3, 5]\n",
      "[-1, -3, -13]\n"
     ]
    }
   ],
   "source": [
    "# Def\n",
    "lista = [1, 5, 3, 5, 0, -1, -3, -13]\n",
    "\n",
    "def separar_positivos_negativos(lista):\n",
    "  positivo = [num for num in lista if num > 0]\n",
    "  negativo = [num for num in lista if num < 0]\n",
    "  return positivo, negativo\n",
    "\n",
    "positivos, negativos = separar_positivos_negativos(lista)\n",
    "print(positivos)\n",
    "print(negativos)"
   ]
  },
  {
   "cell_type": "code",
   "execution_count": 9,
   "metadata": {},
   "outputs": [
    {
     "data": {
      "text/plain": [
       "60"
      ]
     },
     "execution_count": 9,
     "metadata": {},
     "output_type": "execute_result"
    }
   ],
   "source": [
    "def soma_quadrados(lista):\n",
    "  return sum(num**2 for num in lista)\n",
    "\n",
    "# Def\n",
    "lista = [1, 5, 3, 5]\n",
    "\n",
    "soma_quadrados(lista)"
   ]
  },
  {
   "cell_type": "code",
   "execution_count": 20,
   "metadata": {},
   "outputs": [
    {
     "name": "stdout",
     "output_type": "stream",
     "text": [
      "Media das 3 listas 110.0\n",
      "75.0\n"
     ]
    }
   ],
   "source": [
    "# Def com múltiplas saídas\n",
    "\n",
    "def media_listas(l1, l2, l3):\n",
    "  lista1 = sum(l1) / len(l1)\n",
    "  lista2 = sum(l2) / len(l2)\n",
    "  lista3 = sum(l3) / len(l3)\n",
    "  media_listas_cont = lista1 + lista2 + lista3 / 3\n",
    "  \n",
    "  return lista1, lista2, lista3, media_listas_cont\n",
    "\n",
    "um = [10, 20, 30, 40, 50]\n",
    "dois = [10, 20, 30, 40, 50, 60, 70, 80, 90, 100]\n",
    "tres = [10, 20, 30, 40, 50, 60, 70, 80, 90, 100, 150, 200]\n",
    "\n",
    "lista1, lista2, lista3, media_listas_cont = media_listas(um, dois, tres) # acessa cada retorno\n",
    "\n",
    "print(f'Media das 3 listas', media_listas_cont)\n",
    "\n",
    "# OU ASSIM\n",
    "print(media_listas(um, dois, tres)[2])"
   ]
  },
  {
   "cell_type": "code",
   "execution_count": 10,
   "metadata": {},
   "outputs": [
    {
     "name": "stdout",
     "output_type": "stream",
     "text": [
      "Números negativos [10, 20, 30, 40, 50]\n",
      "Números positivos [-1, -2, -3, -4, -5]\n"
     ]
    }
   ],
   "source": [
    "# Def com múltiplas saídas\n",
    "# for in if\n",
    "\n",
    "lista_numeros = [-1, -2, -3, -4, -5, 10, 20, 30, 40, 50]  \n",
    "\n",
    "def negativo_positivo(lista):\n",
    "  negativo = [numero for numero in lista if numero > 0] # colocar a condição\n",
    "  positivo = [numero for numero in lista if numero < 0]\n",
    "  return negativo, positivo\n",
    "\n",
    "\n",
    "negativo, positivo = negativo_positivo(lista_numeros)\n",
    "print(f\"Números negativos\", negativo)\n",
    "print(f\"Números positivos\", positivo)"
   ]
  },
  {
   "cell_type": "code",
   "execution_count": 14,
   "metadata": {},
   "outputs": [
    {
     "name": "stdout",
     "output_type": "stream",
     "text": [
      "[1500, 1250, 1110, 2000]\n",
      "[999, 933, 560, 425]\n",
      "[1500, 1250, 1110, 2000]\n"
     ]
    }
   ],
   "source": [
    "# 1. Crie uma estrutura para mostrar apenas valores de vendas acima de R$ 1000,00. \n",
    "# Crie uma lista que retorne os valores acima do esperado\n",
    "# e uma lista para valores abaixo do esperado.\n",
    "\n",
    "lista = [1500, 1250, 1110, 999, 933, 2000, 560, 425]\n",
    "\n",
    "def acima_do_valor(lista):\n",
    "  acima = [num for num in lista if num > 1000]\n",
    "  abaixo = [num for num in lista if num < 1000]\n",
    "  return acima, abaixo\n",
    "\n",
    "# MANEIRA 1\n",
    "acima, abaixo = acima_do_valor(lista) \n",
    "print(acima)\n",
    "print(abaixo)\n",
    "\n",
    "# MANEIRA 2\n",
    "print(acima_do_valor(lista)[0]) \n",
    "print(acima_do_valor(lista)[1]) \n",
    "  "
   ]
  },
  {
   "cell_type": "code",
   "execution_count": 17,
   "metadata": {},
   "outputs": [
    {
     "name": "stdout",
     "output_type": "stream",
     "text": [
      "[{'modelo': 'Tesla', 'status': 'vendido'}, {'modelo': 'BMW I3', 'status': 'vendido'}, {'modelo': 'Hyundai kona', 'status': 'vendido'}, {'modelo': 'BYW', 'status': 'vendido'}]\n"
     ]
    }
   ],
   "source": [
    "# acessando dicionario\n",
    "\n",
    "lista_carros = [\n",
    "    {'modelo': 'Tesla', 'status': 'vendido'},\n",
    "    {'modelo': 'Nissan_Leaf', 'status': 'nao_vendido'},\n",
    "    {'modelo': 'Chevrolet_Bolt', 'status': 'nao_vendido'},\n",
    "    {'modelo': 'BMW I3', 'status': 'vendido'},\n",
    "    {'modelo': 'Hyundai kona', 'status': 'vendido'},\n",
    "    {'modelo': 'BYW', 'status': 'vendido'},\n",
    "    {'modelo': 'Song', 'status': 'nao_vendido'}\n",
    "]\n",
    "\n",
    "\n",
    "def status_compra(lista):\n",
    "  vendido = [car for car in lista if car['status'] == 'vendido']\n",
    "  nao_vendido = [car for car in lista if car['status'] == 'nao_vendido']\n",
    "  return vendido, nao_vendido\n",
    "\n",
    "print(status_compra(lista_carros)[0])"
   ]
  },
  {
   "cell_type": "markdown",
   "metadata": {},
   "source": [
    "# Aula 6 = Função dentro de função\n",
    "Exercícios"
   ]
  },
  {
   "cell_type": "code",
   "execution_count": 9,
   "metadata": {},
   "outputs": [
    {
     "name": "stdout",
     "output_type": "stream",
     "text": [
      "soma:  717\n"
     ]
    }
   ],
   "source": [
    "# Função calcular ao quadrado\n",
    "\n",
    "def calcula_quadrado(x):\n",
    "  y = x**2\n",
    "  return y\n",
    "\n",
    "# Função soma dos quadrados\n",
    "\n",
    "def calcula_soma_quadrado(x, y, z, w):\n",
    "  a = calcula_quadrado(x)\n",
    "  b = calcula_quadrado(y)\n",
    "  c = calcula_quadrado(z)\n",
    "  d = calcula_quadrado(w)\n",
    "  soma = a + b + c + d\n",
    "\n",
    "  return a, b, c, d, soma\n",
    "\n",
    "# num = (-10, 5, 24, 4)\n",
    "\n",
    "print(f'soma: ', calcula_soma_quadrado(-10, 5, 24, 4)[4])"
   ]
  },
  {
   "cell_type": "code",
   "execution_count": 12,
   "metadata": {},
   "outputs": [
    {
     "name": "stdout",
     "output_type": "stream",
     "text": [
      "A área do triângulo é  78.0\n"
     ]
    }
   ],
   "source": [
    "# Ex. 3 - Calcular a área de um triângulo utilizando função dentro de função.\n",
    "\n",
    "def calcula_area_triangulo(base, altura):\n",
    "  area = (base * altura) / 2\n",
    "  return area\n",
    "\n",
    "# Função para mostrar resultado\n",
    "def mostrar_area():\n",
    "  print(\"A área do triângulo é \", ar)\n",
    "\n",
    "a = int(input('Base do triangulo: '))\n",
    "b = int(input('Altura do triângulo: '))\n",
    "\n",
    "\n",
    "# ar = calcula_area_triangulo(10, 20)\n",
    "ar = calcula_area_triangulo(a, b)\n",
    "\n",
    "mostrar_area()"
   ]
  },
  {
   "cell_type": "code",
   "execution_count": 18,
   "metadata": {},
   "outputs": [
    {
     "name": "stdout",
     "output_type": "stream",
     "text": [
      "Área média\n"
     ]
    }
   ],
   "source": [
    "# Ex. 4 - Calcular a área de um círculo utilizando função dentro de função e incluindo estrutura de condição.\n",
    "# Se area > 100 - área grande\n",
    "# Se area > 50 - área media\n",
    "# Se area < 50 - área pequena\n",
    "\n",
    "\n",
    "def area_triangulo(base, altura):\n",
    "  area = (base * altura) / 2\n",
    "  return area\n",
    "\n",
    "def tamanho_area(x, y):\n",
    "  area_t = area_triangulo(x, y)\n",
    "  \n",
    "  if area_t >= 100:\n",
    "    print('Área grande')\n",
    "  elif area_t >= 50 and area_t < 100:\n",
    "    print('Área média')\n",
    "  else:\n",
    "    print('Area pequena')\n",
    "    \n",
    "\n",
    "tamanho_area(10, 10)\n",
    "\n",
    "\n",
    "  "
   ]
  },
  {
   "cell_type": "code",
   "execution_count": 21,
   "metadata": {},
   "outputs": [
    {
     "data": {
      "text/plain": [
       "16.666666666666668"
      ]
     },
     "execution_count": 21,
     "metadata": {},
     "output_type": "execute_result"
    }
   ],
   "source": [
    "# Ex. 5 - Função para calcular a soma e a média de valores de uma lista utilizando função dentro de função.\n",
    "\n",
    "def soma(lista):\n",
    "  soma = sum(lista)\n",
    "  return soma\n",
    "\n",
    "def media(lista):\n",
    "  media = soma(lista)/len(lista)\n",
    "  return media\n",
    "\n",
    "lista = [10, 20, 20]\n",
    "\n",
    "media(lista)"
   ]
  },
  {
   "cell_type": "code",
   "execution_count": 28,
   "metadata": {},
   "outputs": [
    {
     "name": "stdout",
     "output_type": "stream",
     "text": [
      "Valor máximo: 222\n",
      "Valor minimo: 1\n",
      "Subtração: 221\n"
     ]
    }
   ],
   "source": [
    "# Ex. 6. Função para mostrar o valor mínimo, máximo e subtrair o máximo do mínimo de uma lista.\n",
    "\n",
    "def valor_maximo(lista):\n",
    "  maximo = max(lista) # Retorna o maior valor\n",
    "  return maximo\n",
    "\n",
    "numeros = [120, 1, 222, 40]\n",
    "\n",
    "def valor_minimo(lista):\n",
    "  minimo = min(lista)  # Retorna o menor valor\n",
    "  return minimo\n",
    "\n",
    "def subtrair_max_min(lista):\n",
    "  subtrair = valor_maximo(lista) - valor_minimo(lista)\n",
    "  return subtrair\n",
    "\n",
    "\n",
    "print(f'Valor máximo: {valor_maximo(numeros)}')\n",
    "print(f'Valor minimo: {valor_minimo(numeros)}')\n",
    "print(f'Subtração: {subtrair_max_min(numeros)}')\n",
    "\n",
    "\n"
   ]
  },
  {
   "cell_type": "code",
   "execution_count": 2,
   "metadata": {},
   "outputs": [
    {
     "data": {
      "text/plain": [
       "[1, 4, 9]"
      ]
     },
     "execution_count": 2,
     "metadata": {},
     "output_type": "execute_result"
    }
   ],
   "source": [
    "def multiplicar(a, b):\n",
    "  return a * b\n",
    "\n",
    "def multiplicar_listas(lista1, lista2):\n",
    "  produtos = []\n",
    "  for i in range(len(lista1)):\n",
    "    produtos.append(multiplicar(lista1[i], lista2[i]))\n",
    "  return produtos\n",
    "\n",
    "listaA = [1, 2, 3]\n",
    "listaB = [1, 2, 3]\n",
    "\n",
    "multiplicar_listas(listaA, listaB)"
   ]
  },
  {
   "cell_type": "code",
   "execution_count": 6,
   "metadata": {},
   "outputs": [
    {
     "name": "stdout",
     "output_type": "stream",
     "text": [
      "menor\n",
      "menor\n",
      "menor\n",
      "menor\n"
     ]
    },
    {
     "ename": "ValueError",
     "evalue": "invalid literal for int() with base 10: ''",
     "output_type": "error",
     "traceback": [
      "\u001b[1;31m---------------------------------------------------------------------------\u001b[0m",
      "\u001b[1;31mValueError\u001b[0m                                Traceback (most recent call last)",
      "Cell \u001b[1;32mIn[6], line 23\u001b[0m\n\u001b[0;32m     20\u001b[0m     \u001b[38;5;28;01melse\u001b[39;00m:\n\u001b[0;32m     21\u001b[0m       \u001b[38;5;28mprint\u001b[39m(\u001b[38;5;124m'\u001b[39m\u001b[38;5;124mmenor\u001b[39m\u001b[38;5;124m'\u001b[39m)\n\u001b[1;32m---> 23\u001b[0m \u001b[43madvinhar\u001b[49m\u001b[43m(\u001b[49m\u001b[43m)\u001b[49m\n",
      "Cell \u001b[1;32mIn[6], line 12\u001b[0m, in \u001b[0;36madvinhar\u001b[1;34m()\u001b[0m\n\u001b[0;32m      9\u001b[0m tentativas \u001b[38;5;241m=\u001b[39m \u001b[38;5;241m0\u001b[39m \n\u001b[0;32m     11\u001b[0m \u001b[38;5;28;01mwhile\u001b[39;00m \u001b[38;5;28;01mTrue\u001b[39;00m:\n\u001b[1;32m---> 12\u001b[0m   tentativa \u001b[38;5;241m=\u001b[39m \u001b[38;5;28;43mint\u001b[39;49m\u001b[43m(\u001b[49m\u001b[38;5;28;43minput\u001b[39;49m\u001b[43m(\u001b[49m\u001b[38;5;124;43m'\u001b[39;49m\u001b[38;5;124;43mnumero:\u001b[39;49m\u001b[38;5;124;43m'\u001b[39;49m\u001b[43m)\u001b[49m\u001b[43m)\u001b[49m\n\u001b[0;32m     13\u001b[0m   tentativas\u001b[38;5;241m+\u001b[39m\u001b[38;5;241m=\u001b[39m\u001b[38;5;241m1\u001b[39m \n\u001b[0;32m     15\u001b[0m   \u001b[38;5;28;01mif\u001b[39;00m tentativa \u001b[38;5;241m==\u001b[39m numero:\n",
      "\u001b[1;31mValueError\u001b[0m: invalid literal for int() with base 10: ''"
     ]
    }
   ],
   "source": [
    "import random\n",
    "\n",
    "def gerar_numero_secreto():\n",
    "  return random.randint(1, 10)\n",
    "\n",
    "\n",
    "def advinhar():\n",
    "  numero = gerar_numero_secreto()\n",
    "  tentativas = 0 \n",
    "  \n",
    "  while True:\n",
    "    tentativa = int(input('numero:'))\n",
    "    tentativas+=1 \n",
    "    \n",
    "    if tentativa == numero:\n",
    "      print('ebaaaaaaaaa')\n",
    "      break\n",
    "    elif tentativa > numero:\n",
    "      print('maior')\n",
    "    else:\n",
    "      print('menor')\n",
    "      \n",
    "advinhar()"
   ]
  },
  {
   "cell_type": "code",
   "execution_count": null,
   "metadata": {},
   "outputs": [],
   "source": []
  }
 ],
 "metadata": {
  "kernelspec": {
   "display_name": "Python 3",
   "language": "python",
   "name": "python3"
  },
  "language_info": {
   "codemirror_mode": {
    "name": "ipython",
    "version": 3
   },
   "file_extension": ".py",
   "mimetype": "text/x-python",
   "name": "python",
   "nbconvert_exporter": "python",
   "pygments_lexer": "ipython3",
   "version": "3.12.2"
  }
 },
 "nbformat": 4,
 "nbformat_minor": 2
}
