{
 "cells": [
  {
   "cell_type": "code",
   "execution_count": 1,
   "metadata": {},
   "outputs": [
    {
     "data": {
      "text/plain": [
       "3.5"
      ]
     },
     "execution_count": 1,
     "metadata": {},
     "output_type": "execute_result"
    }
   ],
   "source": [
    "# Def -> sum = soma, len = tamanho\n",
    "lista = [1, 5, 3, 5]\n",
    "\n",
    "def calcular_media(lista):\n",
    "  return sum(lista)/len(lista)\n",
    "\n",
    "media = calcular_media(lista)\n",
    "\n",
    "media\n"
   ]
  },
  {
   "cell_type": "code",
   "execution_count": 3,
   "metadata": {},
   "outputs": [
    {
     "data": {
      "text/plain": [
       "'camila'"
      ]
     },
     "execution_count": 3,
     "metadata": {},
     "output_type": "execute_result"
    }
   ],
   "source": [
    "# Def -> max = maior elemento da lista\n",
    "lista = [1, 5, 3, 5]\n",
    "\n",
    "def maior_numero(lista):\n",
    "  return max(lista)\n",
    "\n",
    "maior = maior_numero(lista)\n",
    "\n",
    "maior"
   ]
  },
  {
   "cell_type": "code",
   "execution_count": 8,
   "metadata": {},
   "outputs": [
    {
     "name": "stdout",
     "output_type": "stream",
     "text": [
      "[1, 5, 3, 5]\n",
      "[-1, -3, -13]\n"
     ]
    }
   ],
   "source": [
    "# Def\n",
    "lista = [1, 5, 3, 5, 0, -1, -3, -13]\n",
    "\n",
    "def separar_positivos_negativos(lista):\n",
    "  positivo = [num for num in lista if num > 0]\n",
    "  negativo = [num for num in lista if num < 0]\n",
    "  return positivo, negativo\n",
    "\n",
    "positivos, negativos = separar_positivos_negativos(lista)\n",
    "print(positivos)\n",
    "print(negativos)"
   ]
  },
  {
   "cell_type": "code",
   "execution_count": 9,
   "metadata": {},
   "outputs": [
    {
     "data": {
      "text/plain": [
       "60"
      ]
     },
     "execution_count": 9,
     "metadata": {},
     "output_type": "execute_result"
    }
   ],
   "source": [
    "def soma_quadrados(lista):\n",
    "  return sum(num**2 for num in lista)\n",
    "\n",
    "# Def\n",
    "lista = [1, 5, 3, 5]\n",
    "\n",
    "soma_quadrados(lista)"
   ]
  },
  {
   "cell_type": "code",
   "execution_count": null,
   "metadata": {},
   "outputs": [],
   "source": [
    "def quadrado(x):\n",
    "  y = x * x\n",
    "  return y"
   ]
  },
  {
   "cell_type": "code",
   "execution_count": 20,
   "metadata": {},
   "outputs": [
    {
     "name": "stdout",
     "output_type": "stream",
     "text": [
      "Media das 3 listas 110.0\n",
      "75.0\n"
     ]
    }
   ],
   "source": [
    "# Def com múltiplas saídas\n",
    "\n",
    "def media_listas(l1, l2, l3):\n",
    "  lista1 = sum(l1) / len(l1)\n",
    "  lista2 = sum(l2) / len(l2)\n",
    "  lista3 = sum(l3) / len(l3)\n",
    "  media_listas_cont = lista1 + lista2 + lista3 / 3\n",
    "  \n",
    "  return lista1, lista2, lista3, media_listas_cont\n",
    "\n",
    "um = [10, 20, 30, 40, 50]\n",
    "dois = [10, 20, 30, 40, 50, 60, 70, 80, 90, 100]\n",
    "tres = [10, 20, 30, 40, 50, 60, 70, 80, 90, 100, 150, 200]\n",
    "\n",
    "lista1, lista2, lista3, media_listas_cont = media_listas(um, dois, tres) # acessa cada retorno\n",
    "\n",
    "print(f'Media das 3 listas', media_listas_cont)\n",
    "\n",
    "# OU ASSIM\n",
    "print(media_listas(um, dois, tres)[2])"
   ]
  },
  {
   "cell_type": "code",
   "execution_count": 10,
   "metadata": {},
   "outputs": [
    {
     "name": "stdout",
     "output_type": "stream",
     "text": [
      "Números negativos [10, 20, 30, 40, 50]\n",
      "Números positivos [-1, -2, -3, -4, -5]\n"
     ]
    }
   ],
   "source": [
    "# Def com múltiplas saídas\n",
    "# for in if\n",
    "\n",
    "lista_numeros = [-1, -2, -3, -4, -5, 10, 20, 30, 40, 50]  \n",
    "\n",
    "def negativo_positivo(lista):\n",
    "  negativo = [numero for numero in lista if numero > 0] # colocar a condição\n",
    "  positivo = [numero for numero in lista if numero < 0]\n",
    "  return negativo, positivo\n",
    "\n",
    "\n",
    "negativo, positivo = negativo_positivo(lista_numeros)\n",
    "print(f\"Números negativos\", negativo)\n",
    "print(f\"Números positivos\", positivo)"
   ]
  },
  {
   "cell_type": "code",
   "execution_count": 14,
   "metadata": {},
   "outputs": [
    {
     "name": "stdout",
     "output_type": "stream",
     "text": [
      "[1500, 1250, 1110, 2000]\n",
      "[999, 933, 560, 425]\n",
      "[1500, 1250, 1110, 2000]\n"
     ]
    }
   ],
   "source": [
    "# 1. Crie uma estrutura para mostrar apenas valores de vendas acima de R$ 1000,00. \n",
    "# Crie uma lista que retorne os valores acima do esperado\n",
    "# e uma lista para valores abaixo do esperado.\n",
    "\n",
    "lista = [1500, 1250, 1110, 999, 933, 2000, 560, 425]\n",
    "\n",
    "def acima_do_valor(lista):\n",
    "  acima = [num for num in lista if num > 1000]\n",
    "  abaixo = [num for num in lista if num < 1000]\n",
    "  return acima, abaixo\n",
    "\n",
    "# MANEIRA 1\n",
    "acima, abaixo = acima_do_valor(lista) \n",
    "print(acima)\n",
    "print(abaixo)\n",
    "\n",
    "# MANEIRA 2\n",
    "print(acima_do_valor(lista)[0]) \n",
    "print(acima_do_valor(lista)[1]) \n",
    "  "
   ]
  },
  {
   "cell_type": "code",
   "execution_count": 17,
   "metadata": {},
   "outputs": [
    {
     "name": "stdout",
     "output_type": "stream",
     "text": [
      "[{'modelo': 'Tesla', 'status': 'vendido'}, {'modelo': 'BMW I3', 'status': 'vendido'}, {'modelo': 'Hyundai kona', 'status': 'vendido'}, {'modelo': 'BYW', 'status': 'vendido'}]\n"
     ]
    }
   ],
   "source": [
    "# acessando dicionario\n",
    "\n",
    "lista_carros = [\n",
    "    {'modelo': 'Tesla', 'status': 'vendido'},\n",
    "    {'modelo': 'Nissan_Leaf', 'status': 'nao_vendido'},\n",
    "    {'modelo': 'Chevrolet_Bolt', 'status': 'nao_vendido'},\n",
    "    {'modelo': 'BMW I3', 'status': 'vendido'},\n",
    "    {'modelo': 'Hyundai kona', 'status': 'vendido'},\n",
    "    {'modelo': 'BYW', 'status': 'vendido'},\n",
    "    {'modelo': 'Song', 'status': 'nao_vendido'}\n",
    "]\n",
    "\n",
    "\n",
    "def status_compra(lista):\n",
    "  vendido = [car for car in lista if car['status'] == 'vendido']\n",
    "  nao_vendido = [car for car in lista if car['status'] == 'nao_vendido']\n",
    "  return vendido, nao_vendido\n",
    "\n",
    "print(status_compra(lista_carros)[0])"
   ]
  }
 ],
 "metadata": {
  "kernelspec": {
   "display_name": "Python 3",
   "language": "python",
   "name": "python3"
  },
  "language_info": {
   "codemirror_mode": {
    "name": "ipython",
    "version": 3
   },
   "file_extension": ".py",
   "mimetype": "text/x-python",
   "name": "python",
   "nbconvert_exporter": "python",
   "pygments_lexer": "ipython3",
   "version": "3.12.2"
  }
 },
 "nbformat": 4,
 "nbformat_minor": 2
}
