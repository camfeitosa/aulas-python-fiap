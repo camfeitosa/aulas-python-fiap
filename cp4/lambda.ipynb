{
 "cells": [
  {
   "cell_type": "code",
   "execution_count": 1,
   "metadata": {},
   "outputs": [
    {
     "data": {
      "text/plain": [
       "6"
      ]
     },
     "execution_count": 1,
     "metadata": {},
     "output_type": "execute_result"
    }
   ],
   "source": [
    "# Função def\n",
    "def func(arg, arg2) :\n",
    "  return arg * arg2\n",
    "\n",
    "func(2, 3)"
   ]
  },
  {
   "cell_type": "code",
   "execution_count": 2,
   "metadata": {},
   "outputs": [
    {
     "data": {
      "text/plain": [
       "12"
      ]
     },
     "execution_count": 2,
     "metadata": {},
     "output_type": "execute_result"
    }
   ],
   "source": [
    "# Função Lambda (anônima)\n",
    "\n",
    "funcao = lambda x, y: x * y # não tem nome\n",
    "funcao(3, 4)"
   ]
  },
  {
   "cell_type": "code",
   "execution_count": 1,
   "metadata": {},
   "outputs": [
    {
     "name": "stdout",
     "output_type": "stream",
     "text": [
      "[['Produto 4', 79], ['Produto 2', 45], ['Produto 3', 21], ['Produto 1', 12]]\n",
      "[['Produto 1', 12], ['Produto 3', 21], ['Produto 2', 45], ['Produto 4', 79]]\n"
     ]
    }
   ],
   "source": [
    "lista = [\n",
    "  ['Produto 1', 12],\n",
    "  ['Produto 2', 45],\n",
    "  ['Produto 3', 21],\n",
    "  ['Produto 4', 79],\n",
    "]\n",
    "\n",
    "# def func(item):\n",
    "#   return item[1]\n",
    "\n",
    "lista.sort(key=lambda item: item[1]) \n",
    "lista.sort(key=lambda item: item[1], reverse=True)\n",
    "\n",
    "# lista.sort() -> a ordenação não funciona por ter outras listas dentro\n",
    "print(lista)\n",
    "\n",
    "print(sorted(lista, key=lambda i: i[1]))"
   ]
  },
  {
   "cell_type": "markdown",
   "metadata": {},
   "source": [
    "# Aula 7 = função lambda"
   ]
  },
  {
   "cell_type": "code",
   "execution_count": 17,
   "metadata": {},
   "outputs": [
    {
     "name": "stdout",
     "output_type": "stream",
     "text": [
      "33\n",
      "4\n",
      "200\n",
      "50.0\n"
     ]
    }
   ],
   "source": [
    "# Lambda => contem uma única expressão\n",
    "\n",
    "soma = lambda x, y : x + y\n",
    "sub = lambda a, b: a - b\n",
    "mult = lambda a, b : a * b\n",
    "div = lambda a, b : a / b\n",
    "\n",
    "print(soma(23, 10))\n",
    "print((sub(10, 6)))\n",
    "print((mult(2, 100)))\n",
    "print((div(100, 2)))\n"
   ]
  },
  {
   "cell_type": "code",
   "execution_count": 18,
   "metadata": {},
   "outputs": [
    {
     "name": "stdout",
     "output_type": "stream",
     "text": [
      "O resultado é 81\n"
     ]
    }
   ],
   "source": [
    "quadrado = lambda x: x * x\n",
    "resultado = (quadrado(9))\n",
    "\n",
    "print(f\"O resultado é {resultado}\")"
   ]
  },
  {
   "cell_type": "code",
   "execution_count": 19,
   "metadata": {},
   "outputs": [
    {
     "data": {
      "text/plain": [
       "'oi Tchau'"
      ]
     },
     "execution_count": 19,
     "metadata": {},
     "output_type": "execute_result"
    }
   ],
   "source": [
    "concatenar = lambda a, b : a + \" \" + b\n",
    "concatenar(\"oi\", 'Tchau')"
   ]
  },
  {
   "cell_type": "code",
   "execution_count": 21,
   "metadata": {},
   "outputs": [
    {
     "name": "stdout",
     "output_type": "stream",
     "text": [
      "CAMILA\n",
      "camila\n"
     ]
    }
   ],
   "source": [
    "maiusculo = lambda s: s.upper()\n",
    "minusculo = lambda s: s.lower()\n",
    "\n",
    "print(maiusculo('camila'))\n",
    "print(minusculo('CAMILA'))"
   ]
  },
  {
   "cell_type": "code",
   "execution_count": 26,
   "metadata": {},
   "outputs": [
    {
     "data": {
      "text/plain": [
       "'Adulto'"
      ]
     },
     "execution_count": 26,
     "metadata": {},
     "output_type": "execute_result"
    }
   ],
   "source": [
    "# Com estrutura de condição\n",
    "\n",
    "idade_classificacao = lambda idade: \"Criança\" if idade < 12 else \"Adolescente\" if idade < 18 else (\"Adulto\" if idade < 60 else \"Idoso\")\n",
    "\n",
    "idade_classificacao(21)"
   ]
  },
  {
   "cell_type": "code",
   "execution_count": 1,
   "metadata": {},
   "outputs": [
    {
     "data": {
      "text/plain": [
       "10"
      ]
     },
     "execution_count": 1,
     "metadata": {},
     "output_type": "execute_result"
    }
   ],
   "source": [
    "func = lambda x, y : x + y\n",
    "\n",
    "func(5, 5)"
   ]
  },
  {
   "cell_type": "code",
   "execution_count": 2,
   "metadata": {},
   "outputs": [
    {
     "name": "stdout",
     "output_type": "stream",
     "text": [
      "Positivo\n",
      "Zero\n",
      "Negativo\n"
     ]
    }
   ],
   "source": [
    "classificar = lambda x: \"Positivo\" if x > 0 else (\"Negativo\" if x < 0 else \"Zero\")\n",
    "\n",
    "print(classificar(10))\n",
    "print(classificar(0))\n",
    "print(classificar(-10))"
   ]
  },
  {
   "cell_type": "code",
   "execution_count": 6,
   "metadata": {},
   "outputs": [
    {
     "name": "stdout",
     "output_type": "stream",
     "text": [
      "[1, 4, 9, 16, 25]\n"
     ]
    }
   ],
   "source": [
    "numeros = [1, 2, 3, 4, 5]\n",
    "quadrado = list(map(lambda x: x**2, numeros))\n",
    "print(quadrado)"
   ]
  },
  {
   "cell_type": "code",
   "execution_count": 2,
   "metadata": {},
   "outputs": [
    {
     "name": "stdout",
     "output_type": "stream",
     "text": [
      "['LAMBDA', 'É', 'MUITO', 'ÚTIL']\n"
     ]
    }
   ],
   "source": [
    "palavras = ['lambda', 'é', 'muito', 'útil']\n",
    "\n",
    "maiusculo = list(map(lambda s: s.upper(), palavras))\n",
    "print(maiusculo)"
   ]
  },
  {
   "cell_type": "code",
   "execution_count": 8,
   "metadata": {},
   "outputs": [
    {
     "name": "stdout",
     "output_type": "stream",
     "text": [
      "[2, 4]\n"
     ]
    }
   ],
   "source": [
    "numeros = [1, 2, 3, 4, 5]\n",
    "\n",
    "pares = list(filter(lambda x: x % 2 == 0, numeros))\n",
    "print(pares)"
   ]
  },
  {
   "cell_type": "code",
   "execution_count": 9,
   "metadata": {},
   "outputs": [
    {
     "name": "stdout",
     "output_type": "stream",
     "text": [
      "[1, 3, 5]\n"
     ]
    }
   ],
   "source": [
    "numeros = [1, 2, 3, 4, 5]\n",
    "\n",
    "impares = list(filter(lambda x: x % 2 != 0, numeros))\n",
    "print(impares)"
   ]
  },
  {
   "cell_type": "code",
   "execution_count": 10,
   "metadata": {},
   "outputs": [
    {
     "name": "stdout",
     "output_type": "stream",
     "text": [
      "['carro', 'caminhão']\n"
     ]
    }
   ],
   "source": [
    "# Filter -> startswith('s')\n",
    "palavras = ['carro', 'bicicleta', 'avião', 'caminhão']\n",
    "\n",
    "comecam_com_c = list(filter(lambda x: x.startswith('c'), palavras))\n",
    "print(comecam_com_c)"
   ]
  },
  {
   "cell_type": "code",
   "execution_count": 11,
   "metadata": {},
   "outputs": [
    {
     "name": "stdout",
     "output_type": "stream",
     "text": [
      "['PythonPythonPython', 'lambdalambdalambda', 'ExemploExemploExemplo']\n"
     ]
    }
   ],
   "source": [
    "palavras = ['Python', 'lambda', 'Exemplo']\n",
    "\n",
    "repetidas = list(map(lambda x: x*3, palavras))\n",
    "\n",
    "print(repetidas)"
   ]
  },
  {
   "cell_type": "code",
   "execution_count": 14,
   "metadata": {},
   "outputs": [
    {
     "data": {
      "text/plain": [
       "['Olá Camila', 'Olá Murilo', 'Olá Aki', 'Olá Gato']"
      ]
     },
     "execution_count": 14,
     "metadata": {},
     "output_type": "execute_result"
    }
   ],
   "source": [
    "nomes = ['Camila', 'Murilo', 'Aki', 'Gato']\n",
    "\n",
    "saudacao = list(map(lambda s: f\"Olá {s}\", nomes))\n",
    "\n",
    "saudacao"
   ]
  },
  {
   "cell_type": "code",
   "execution_count": 17,
   "metadata": {},
   "outputs": [
    {
     "name": "stdout",
     "output_type": "stream",
     "text": [
      "[('maça', 2), ('laranja', 3), ('banana', 5)]\n",
      "[('banana', 5), ('laranja', 3), ('maça', 2)]\n"
     ]
    }
   ],
   "source": [
    "# Sorted -> ordenar\n",
    "\n",
    "tuplas = [(\"maça\", 2), (\"banana\", 5), (\"laranja\", 3)]\n",
    "\n",
    "decrescente = sorted(tuplas, key=lambda x: x[1], reverse=True)\n",
    "ordenar_quantidade = sorted(tuplas, key=lambda x: x[1])\n",
    "print(ordenar_quantidade)\n",
    "print(decrescente)"
   ]
  },
  {
   "cell_type": "code",
   "execution_count": 23,
   "metadata": {},
   "outputs": [
    {
     "name": "stdout",
     "output_type": "stream",
     "text": [
      "[('Bruno', 31)]\n",
      "[('Bia', 15), ('Bruno', 31)]\n"
     ]
    }
   ],
   "source": [
    "tuplas = [(\"Ana\", 27), (\"Bia\", 15), (\"Bruno\", 31)]\n",
    "\n",
    "acima_de_30 = list(filter(lambda idade: idade[1] > 30, tuplas))\n",
    "\n",
    "print(acima_de_30)\n",
    "\n",
    "nomes_com_b = list(filter(lambda s: s[0].startswith(\"B\"), tuplas))\n",
    "print(nomes_com_b)"
   ]
  },
  {
   "cell_type": "code",
   "execution_count": 31,
   "metadata": {},
   "outputs": [
    {
     "name": "stdout",
     "output_type": "stream",
     "text": [
      "[('Anaa', 27), ('Bia', 15), ('Bruno', 31)]\n",
      "[('Anaa', 27)]\n",
      "[('Bia', 15)]\n"
     ]
    }
   ],
   "source": [
    "# Filtrar com idade ímpar\n",
    "pessoas = [(\"Anaa\", 27), (\"Bia\", 15), (\"Bruno\", 31)]\n",
    "\n",
    "idade_impar = list(filter(lambda i: i[1] % 2 != 0, pessoas ))\n",
    "print(idade_impar)\n",
    "\n",
    "nome_com_4_letras = list(filter(lambda l: len(l[0]) == 4, pessoas))\n",
    "print(nome_com_4_letras)\n",
    "\n",
    "multiplo_de_5 = list(filter(lambda i: i[1] % 5 == 0, pessoas))\n",
    "print(multiplo_de_5)"
   ]
  },
  {
   "cell_type": "code",
   "execution_count": 42,
   "metadata": {},
   "outputs": [
    {
     "name": "stdout",
     "output_type": "stream",
     "text": [
      "[('BRUNO', [('Anaa', 27), ('Bia', 15), ('Bruno', 31)])]\n"
     ]
    }
   ],
   "source": [
    "pessoas = [(\"Anaa\", 27), (\"Bia\", 15), (\"Bruno\", 31)]\n",
    "\n",
    "maiusculo_maiores_de_30 = list(map(lambda s: (s[0].upper(), pessoas), filter(lambda i: i[1] > 30, pessoas)))\n",
    "\n",
    "print(maiusculo_maiores_de_30)"
   ]
  },
  {
   "cell_type": "code",
   "execution_count": 43,
   "metadata": {},
   "outputs": [
    {
     "name": "stdout",
     "output_type": "stream",
     "text": [
      "[('Camisa', 27), ('Boné', 59)]\n"
     ]
    }
   ],
   "source": [
    "# Filtrar preço abaixo de 60\n",
    "produtos = [(\"Camisa\", 27), (\"Calça\", 90), (\"Boné\", 59)]\n",
    "\n",
    "limite_preco = 60\n",
    "\n",
    "abaixo_do_limite = list(filter(lambda p: p[1] < limite_preco, produtos))\n",
    "print(abaixo_do_limite)"
   ]
  },
  {
   "cell_type": "code",
   "execution_count": null,
   "metadata": {},
   "outputs": [],
   "source": [
    "# Condição com Lambda\n",
    "\n"
   ]
  }
 ],
 "metadata": {
  "kernelspec": {
   "display_name": "Python 3",
   "language": "python",
   "name": "python3"
  },
  "language_info": {
   "codemirror_mode": {
    "name": "ipython",
    "version": 3
   },
   "file_extension": ".py",
   "mimetype": "text/x-python",
   "name": "python",
   "nbconvert_exporter": "python",
   "pygments_lexer": "ipython3",
   "version": "3.12.2"
  }
 },
 "nbformat": 4,
 "nbformat_minor": 2
}
