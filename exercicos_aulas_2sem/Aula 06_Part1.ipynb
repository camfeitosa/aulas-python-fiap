{
  "nbformat": 4,
  "nbformat_minor": 0,
  "metadata": {
    "colab": {
      "provenance": []
    },
    "kernelspec": {
      "name": "python3",
      "display_name": "Python 3"
    },
    "language_info": {
      "name": "python"
    }
  },
  "cells": [
    {
      "cell_type": "code",
      "execution_count": 3,
      "metadata": {
        "colab": {
          "base_uri": "https://localhost:8080/"
        },
        "id": "R-JlV_Z-sAF6",
        "outputId": "0411d90b-cb46-4570-e0d4-75fa4006c564"
      },
      "outputs": [
        {
          "output_type": "stream",
          "name": "stdout",
          "text": [
            "600\n",
            "200.0\n"
          ]
        }
      ],
      "source": [
        "# Ex. 1 - Estruturas com função def\n",
        "\n",
        "def nome_funcao(lista):\n",
        "  \"Calcula soma e media de uma lista\"\n",
        "\n",
        "  s = sum(lista)\n",
        "  m = soma / len(lista)\n",
        "\n",
        "  return s, m\n",
        "\n",
        "lista = [100, 200, 300]\n",
        "\n",
        "nome_funcao(lista)\n",
        "\n",
        "soma, media = nome_funcao(lista)\n",
        "print(soma)\n",
        "print(media)"
      ]
    },
    {
      "cell_type": "markdown",
      "source": [
        "# Função dentro de função"
      ],
      "metadata": {
        "id": "Qiqv2W6ouR9F"
      }
    },
    {
      "cell_type": "code",
      "source": [
        "# Função calcular ao quadrado\n",
        "\n",
        "def calcula_quadrado(x):\n",
        "  y = x**2\n",
        "  return y\n",
        "\n",
        "# Função soma dos quadrados\n",
        "\n",
        "def calcula_soma_quadrado(x, y, z, w):\n",
        "  a = calcula_quadrado(x)\n",
        "  b = calcula_quadrado(y)\n",
        "  c = calcula_quadrado(z)\n",
        "  d = calcula_quadrado(w)\n",
        "  soma = a + b + c + d\n",
        "\n",
        "  return a, b, c, d, soma\n",
        "\n",
        "calcula_soma_quadrado(-10, 5, 24, 4)"
      ],
      "metadata": {
        "colab": {
          "base_uri": "https://localhost:8080/"
        },
        "id": "5GvXteo4uULt",
        "outputId": "b381e1cb-377a-4e15-c3f7-f86172ccb06f"
      },
      "execution_count": 5,
      "outputs": [
        {
          "output_type": "execute_result",
          "data": {
            "text/plain": [
              "(100, 25, 576, 16, 717)"
            ]
          },
          "metadata": {},
          "execution_count": 5
        }
      ]
    },
    {
      "cell_type": "code",
      "source": [
        "# Ex.2 - Calcular a área retângulo\n",
        "\n",
        "# Função calcula área\n",
        "\n",
        "def calcula_area(lado, comprimento):\n",
        "\n",
        "  area = lado * comprimento\n",
        "  return area\n",
        "\n",
        "# Função para mostrar a área\n",
        "\n",
        "def mostra_area():\n",
        "  print(\"A área é: \", ar)\n",
        "\n",
        "l = float(input(\"Digite o lado:\"))\n",
        "c = float(input(\"Digite o comprimento\"))\n",
        "ar = calcula_area(l, c)\n",
        "mostra_area()"
      ],
      "metadata": {
        "colab": {
          "base_uri": "https://localhost:8080/"
        },
        "id": "H0_OZPvPuURk",
        "outputId": "bc06027d-fdf6-4a1b-aaaa-3a0984893572"
      },
      "execution_count": 7,
      "outputs": [
        {
          "output_type": "stream",
          "name": "stdout",
          "text": [
            "Digite o lado:10\n",
            "Digite o comprimento5\n",
            "A área é:  50.0\n"
          ]
        }
      ]
    },
    {
      "cell_type": "code",
      "source": [
        "\"\"\"\n",
        "Ex. 3 - Calcular a área de um triângulo utilizando função dentro de função.\n",
        "\n",
        "Ex. 4 - Calcular a área de um círculo utilizando função dentro de função e incluindo estrutura de condição.\n",
        "Se area > 100 - área grande\n",
        "Se area > 50 - área media\n",
        "Se area < 50 - área pequena\n",
        "\n",
        "Ex. 5 - Função para calcular a soma e a média de valores de uma lista utilizando função dentro de função.\n",
        "\n",
        "Ex. 6. Função para mostrar o valor mínimo, máximo e subtrair o máximo do mínimo de uma lista."
      ],
      "metadata": {
        "id": "5AzBG5A-uUT7"
      },
      "execution_count": null,
      "outputs": []
    },
    {
      "cell_type": "code",
      "source": [
        "# Ex. 3 - Calcular a área de um triângulo utilizando função dentro de função.\n",
        "\n",
        "def calcula_area_triangulo(base, altura):\n",
        "\n",
        "  area = (base * altura) / 2\n",
        "\n",
        "  return area\n",
        "\n",
        "def mostrar_area():\n",
        "  print(\"A área do triângulo é \", ar)\n",
        "\n",
        "b = float(input(\"Insira o valor da base\"))\n",
        "a = float(input(\"Insira o valor da altura\"))\n",
        "\n",
        "ar = calcula_area_triangulo(b, a)\n",
        "\n",
        "mostrar_area()"
      ],
      "metadata": {
        "colab": {
          "base_uri": "https://localhost:8080/"
        },
        "id": "onEJ9YF4uUW0",
        "outputId": "c07cebad-942c-4103-e1a5-7213d6668539"
      },
      "execution_count": 10,
      "outputs": [
        {
          "output_type": "stream",
          "name": "stdout",
          "text": [
            "Insira o valor da base5\n",
            "Insira o valor da altura4\n",
            "A área do triângulo é  10.0\n"
          ]
        }
      ]
    },
    {
      "cell_type": "code",
      "source": [
        "# Ex. 4 - Calcular a área de um círculo utilizando função dentro de função e incluindo estrutura de condição.\n",
        "# Se area > 100 - área grande\n",
        "# Se area > 50 - área media\n",
        "# Se area < 50 - área pequena\n",
        "\n",
        "def calcula_area_circulo(raio):\n",
        "\n",
        "  area = 3.1415 * raio**2\n",
        "\n",
        "  return area\n",
        "\n",
        "def mostrar_area():\n",
        "\n",
        "  if ar_circulo > 100:\n",
        "    return ar_circulo, \"Area grande\"\n",
        "\n",
        "  elif ar_circulo > 50:\n",
        "    return ar_circulo, \"Área média\"\n",
        "\n",
        "  else:\n",
        "    return ar_circulo, \"Área pequena\"\n",
        "\n",
        "raio = float(input(\"digita o raio do círculo\"))\n",
        "print(raio)\n",
        "\n",
        "ar_circulo = calcula_area_circulo(raio)\n",
        "\n",
        "mostrar_area()"
      ],
      "metadata": {
        "colab": {
          "base_uri": "https://localhost:8080/"
        },
        "id": "fRGtGY-f5d2V",
        "outputId": "9aed0903-0a12-4e97-b8a2-40eedf3dc422"
      },
      "execution_count": 14,
      "outputs": [
        {
          "output_type": "stream",
          "name": "stdout",
          "text": [
            "digita o raio do círculo10\n",
            "10.0\n"
          ]
        },
        {
          "output_type": "execute_result",
          "data": {
            "text/plain": [
              "(314.15000000000003, 'Area grande')"
            ]
          },
          "metadata": {},
          "execution_count": 14
        }
      ]
    },
    {
      "cell_type": "code",
      "source": [
        "# Ex. 5 - Função para calcular a soma e a média de valores de uma lista utilizando função dentro de função.\n",
        "\n",
        "def calcula_soma(lista):\n",
        "\n",
        "  soma = sum(lista)\n",
        "\n",
        "  return soma\n",
        "\n",
        "def calcula_media(lista):\n",
        "\n",
        "  media = calcula_soma(lista) / len(lista)\n",
        "\n",
        "  return media\n",
        "\n",
        "lista_numeros = [100, 200, 300, 400, 500]\n",
        "\n",
        "print(\"Lista a ser utilizada\", lista_numeros)\n",
        "print(\"Operação de soma para uma lista\", calcula_soma(lista))\n",
        "print(\"Média de valores de uma lista\", calcula_media(lista))"
      ],
      "metadata": {
        "colab": {
          "base_uri": "https://localhost:8080/"
        },
        "id": "KgOV4RVS8VLK",
        "outputId": "0388082d-31c9-4f3a-fe76-9b45878a1f1c"
      },
      "execution_count": 16,
      "outputs": [
        {
          "output_type": "stream",
          "name": "stdout",
          "text": [
            "Lista a ser utilizada [100, 200, 300, 400, 500]\n",
            "Operação de soma para uma lista 600\n",
            "Média de valores de uma lista 200.0\n"
          ]
        }
      ]
    },
    {
      "cell_type": "code",
      "source": [
        "def calcula_soma(lista):\n",
        "    soma = 0\n",
        "    for i in lista:\n",
        "        soma += i\n",
        "    return soma\n",
        "\n",
        "lista_numeros = [100, 200, 300, 400, 500]\n",
        "resultado = calcula_soma(lista_numeros)\n",
        "print(resultado)"
      ],
      "metadata": {
        "colab": {
          "base_uri": "https://localhost:8080/"
        },
        "id": "fgtTZcG29eTR",
        "outputId": "413a1263-cc41-4bc4-ca4c-196754f06ffb"
      },
      "execution_count": 29,
      "outputs": [
        {
          "output_type": "stream",
          "name": "stdout",
          "text": [
            "1500\n"
          ]
        }
      ]
    },
    {
      "cell_type": "code",
      "source": [
        "# Ex. 6. Função para mostrar o valor mínimo, máximo e subtrair o máximo do mínimo de uma lista.\n",
        "\n",
        "def minino(lista):\n",
        "\n",
        "  minimo = min(lista)\n",
        "  return minimo\n",
        "\n",
        "def maximo(lista):\n",
        "\n",
        "  maximo = max(lista)\n",
        "  return maximo\n",
        "\n",
        "def calcula_diferenca():\n",
        "\n",
        "  diferenca = maximo(lista_numeros) - minino(lista_numeros)\n",
        "  return diferenca\n",
        "\n",
        "calcula_diferenca()\n",
        "\n",
        "lista_numeros = [100, 200, 300, 400, 500]\n",
        "\n",
        "print(\"Min\", minino(lista_numeros))\n",
        "print(\"Max\", maximo(lista_numeros))\n",
        "print(\"Diferença\", calcula_diferenca())"
      ],
      "metadata": {
        "colab": {
          "base_uri": "https://localhost:8080/"
        },
        "id": "tQvPrNocFVN-",
        "outputId": "524bd2c2-713a-40b8-ff62-516ba48dd4a0"
      },
      "execution_count": 37,
      "outputs": [
        {
          "output_type": "stream",
          "name": "stdout",
          "text": [
            "Min 100\n",
            "Max 500\n",
            "Diferença 400\n"
          ]
        }
      ]
    },
    {
      "cell_type": "code",
      "source": [
        "def calcula_diferenca():\n",
        "\n",
        "  diferenca = maximo(lista_numeros) - minino(lista_numeros)\n",
        "  return diferenca\n",
        "\n",
        "calcula_diferenca()"
      ],
      "metadata": {
        "colab": {
          "base_uri": "https://localhost:8080/"
        },
        "id": "HTDLoud-JKgK",
        "outputId": "481f4af2-7efa-4eb4-868f-a21c55d1a93c"
      },
      "execution_count": 36,
      "outputs": [
        {
          "output_type": "execute_result",
          "data": {
            "text/plain": [
              "400"
            ]
          },
          "metadata": {},
          "execution_count": 36
        }
      ]
    },
    {
      "cell_type": "code",
      "source": [],
      "metadata": {
        "id": "oxhf3ZQvJh9i"
      },
      "execution_count": null,
      "outputs": []
    }
  ]
}