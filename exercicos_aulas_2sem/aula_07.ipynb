{
  "nbformat": 4,
  "nbformat_minor": 0,
  "metadata": {
    "colab": {
      "provenance": []
    },
    "kernelspec": {
      "name": "python3",
      "display_name": "Python 3"
    },
    "language_info": {
      "name": "python"
    }
  },
  "cells": [
    {
      "cell_type": "code",
      "execution_count": 2,
      "metadata": {
        "colab": {
          "base_uri": "https://localhost:8080/"
        },
        "id": "K3PjmtPlx9N6",
        "outputId": "fd1f5ba7-5c1e-4fce-c194-abdb45dffd70"
      },
      "outputs": [
        {
          "output_type": "stream",
          "name": "stdout",
          "text": [
            "15\n",
            "5\n",
            "2.0\n",
            "50\n"
          ]
        }
      ],
      "source": [
        "# Operação de soma - Ex.1\n",
        "\n",
        "soma = lambda x, y: x + y\n",
        "subtracao = lambda x, y: x - y\n",
        "divisao = lambda x, y: x / y\n",
        "multiplicacao = lambda x, y: x * y\n",
        "\n",
        "print(soma(10, 5))\n",
        "print(subtracao(10, 5))\n",
        "print(divisao(10, 5))\n",
        "print(multiplicacao(10, 5))"
      ]
    },
    {
      "cell_type": "code",
      "source": [
        "# Eleva ao quadrado - Ex.2\n",
        "\n",
        "quadrado = lambda z: z ** 2\n",
        "\n",
        "print(quadrado(2))\n",
        "print(quadrado(3))\n",
        "print(quadrado(4))"
      ],
      "metadata": {
        "colab": {
          "base_uri": "https://localhost:8080/"
        },
        "id": "xHUHJlBmypmU",
        "outputId": "c21f37e0-066c-4016-868a-9bcd2891109a"
      },
      "execution_count": 3,
      "outputs": [
        {
          "output_type": "stream",
          "name": "stdout",
          "text": [
            "4\n",
            "9\n",
            "16\n"
          ]
        }
      ]
    },
    {
      "cell_type": "code",
      "source": [
        "# Concatenar - Ex.3\n",
        "\n",
        "concatena = lambda s1, s2: s1 + \"-\" + s2\n",
        "\n",
        "print(concatena('Python', 'é legal!'))"
      ],
      "metadata": {
        "colab": {
          "base_uri": "https://localhost:8080/"
        },
        "id": "U6FOROLry9Kb",
        "outputId": "fbdfb624-d0c8-4325-eb4b-a21684123cb5"
      },
      "execution_count": 5,
      "outputs": [
        {
          "output_type": "stream",
          "name": "stdout",
          "text": [
            "Python-é legal!\n"
          ]
        }
      ]
    },
    {
      "cell_type": "code",
      "source": [
        "# Upper e Lower usando lambda - Ex.4\n",
        "\n",
        "maiusculo = lambda s: s.upper()\n",
        "minusculo = lambda t: t.lower()\n",
        "\n",
        "print(maiusculo('Hoje é terça-feira!'))\n",
        "print(minusculo('AMANHÃ SERÁ QUARTA-FEIRA!'))"
      ],
      "metadata": {
        "colab": {
          "base_uri": "https://localhost:8080/"
        },
        "id": "krm0guAiz1DW",
        "outputId": "879b69e0-c421-460b-ea91-bb97d11c4558"
      },
      "execution_count": 7,
      "outputs": [
        {
          "output_type": "stream",
          "name": "stdout",
          "text": [
            "HOJE É TERÇA-FEIRA!\n",
            "amanhã será quarta-feira!\n"
          ]
        }
      ]
    },
    {
      "cell_type": "code",
      "source": [
        "# Estrutura de condição usando lambda - Ex.5\n",
        "\n",
        "avaliacao = lambda nota: 'Aprovado' if nota >= 7 else 'Reprovado'\n",
        "print(avaliacao(7))"
      ],
      "metadata": {
        "colab": {
          "base_uri": "https://localhost:8080/"
        },
        "id": "g-ECF59A0jUF",
        "outputId": "76be7412-c1a0-4583-9212-cffd1d8a443e"
      },
      "execution_count": 8,
      "outputs": [
        {
          "output_type": "stream",
          "name": "stdout",
          "text": [
            "Aprovado\n"
          ]
        }
      ]
    },
    {
      "cell_type": "code",
      "source": [
        "# Estrutura de condição usando lambda - Ex.6\n",
        "\n",
        "avaliacao = lambda nota: 'Boa' if nota >= 7 else('regular' if nota >=5 else 'ruim')\n",
        "\n",
        "nota >= 7 - Boa - 'Boa' if nota >= 7\n",
        "nota >= 5 - regular - else('regular' if nota >=5)\n",
        "nota < 5 - ruim - (else 'ruim')"
      ],
      "metadata": {
        "id": "cvfhKXz301Ij"
      },
      "execution_count": null,
      "outputs": []
    },
    {
      "cell_type": "code",
      "source": [
        "# Estrutura de condição usando lambda - Ex.7 - Crie uma estrutura para classificar a idade:\n",
        "\n",
        "< 12 - criança2\n",
        "< 18 - adolescente\n",
        "< 60 - adulto\n",
        "> 60 - idoso\n",
        "\n",
        "# Estrutura de condição usando lambda - Ex.8 - Crie uma estrutura para classificar o status do cliente\n",
        "# em função das compras realizadas em cartão de crédito.\n",
        "\n",
        "compras >= 8000 - platinum\n",
        "compras >= 5000 - gold\n",
        "compras >= 2000 - silver"
      ],
      "metadata": {
        "id": "KbXyUkIh3Czp"
      },
      "execution_count": null,
      "outputs": []
    },
    {
      "cell_type": "code",
      "source": [
        "idade = int(input(\"Digite sua idade\"))\n",
        "\n",
        "if idade < 12:\n",
        "  print(\"Criança\")\n",
        "elif idade <= 18:\n",
        "  print(\"Adolescente\")\n",
        "elif 18 < idade < 60:\n",
        "  print(\"Adulto\")\n",
        "else:\n",
        "  print(\"Idoso\")"
      ],
      "metadata": {
        "id": "EriMnwKi-G8E"
      },
      "execution_count": null,
      "outputs": []
    },
    {
      "cell_type": "code",
      "source": [
        "classifica_idade = lambda idade: 'criança' if idade <= 12 else (\"adolescente\" if idade <= 18 else (\"Adulto\" if idade < 60 else 'Idoso'))\n",
        "print(classifica_idade(12))"
      ],
      "metadata": {
        "colab": {
          "base_uri": "https://localhost:8080/"
        },
        "id": "uvSTkBUO-iwt",
        "outputId": "a60fc6c1-871c-40db-c51c-5117f64c7d25"
      },
      "execution_count": 9,
      "outputs": [
        {
          "output_type": "stream",
          "name": "stdout",
          "text": [
            "criança\n"
          ]
        }
      ]
    },
    {
      "cell_type": "code",
      "source": [
        "classifica_cliente = lambda compra: 'platinum' if compra >= 8000 else ('gold' if compra >= 5000 else 'silver')\n",
        "print(classifica_cliente(2000))"
      ],
      "metadata": {
        "colab": {
          "base_uri": "https://localhost:8080/"
        },
        "id": "GAXQhGXz_7DC",
        "outputId": "e7ddecef-d28c-4971-f567-770f304c606e"
      },
      "execution_count": 12,
      "outputs": [
        {
          "output_type": "stream",
          "name": "stdout",
          "text": [
            "silver\n"
          ]
        }
      ]
    },
    {
      "cell_type": "code",
      "source": [
        "# Função lambda e listas - Ex.9\n",
        "\n",
        "numeros = [2, 3, 4, 5, 6, 7]\n",
        "\n",
        "quadrado = list(map(lambda z: z**2, numeros))\n",
        "print(quadrado)"
      ],
      "metadata": {
        "colab": {
          "base_uri": "https://localhost:8080/"
        },
        "id": "8UQH2uy_AqtH",
        "outputId": "977950da-dc94-4f23-ead3-5d94a53ae576"
      },
      "execution_count": 13,
      "outputs": [
        {
          "output_type": "stream",
          "name": "stdout",
          "text": [
            "[4, 9, 16, 25, 36, 49]\n"
          ]
        }
      ]
    },
    {
      "cell_type": "code",
      "source": [
        "# Função lambda e listas - Ex.10\n",
        "\n",
        "palavras = ['lambda', 'é', 'muito', 'util']\n",
        "maiusculas = list(map(lambda k: k.upper(), palavras))\n",
        "\n",
        "print(maiusculas)"
      ],
      "metadata": {
        "colab": {
          "base_uri": "https://localhost:8080/"
        },
        "id": "NWgx8nLdIcHE",
        "outputId": "6c24013f-90f2-4cad-9af6-44db9c522b9b"
      },
      "execution_count": 14,
      "outputs": [
        {
          "output_type": "stream",
          "name": "stdout",
          "text": [
            "['LAMBDA', 'É', 'MUITO', 'UTIL']\n"
          ]
        }
      ]
    },
    {
      "cell_type": "code",
      "source": [
        "# Função lambda e listas - Ex.11\n",
        "\n",
        "palavras = ['casa', 'carro', 'bicicleta']\n",
        "\n",
        "comprimento = list(map(lambda c: len(c), palavras))\n",
        "print(comprimento)"
      ],
      "metadata": {
        "colab": {
          "base_uri": "https://localhost:8080/"
        },
        "id": "Bope9GFHJB-t",
        "outputId": "8dc300eb-1802-4bb9-f5d6-065da11ccd33"
      },
      "execution_count": 16,
      "outputs": [
        {
          "output_type": "stream",
          "name": "stdout",
          "text": [
            "[4, 5, 9]\n"
          ]
        }
      ]
    },
    {
      "cell_type": "code",
      "source": [
        "# Função lambda e listas - Ex.12\n",
        "\n",
        "palavras = ['casa', 'carro', 'bicicleta', 'caminhao']\n",
        "filtro = list(filter(lambda x: x.startswith('c'), palavras))\n",
        "print(filtro)"
      ],
      "metadata": {
        "colab": {
          "base_uri": "https://localhost:8080/"
        },
        "id": "ilq2KsbzLHPV",
        "outputId": "0c3a9d8d-2f6c-4e40-d855-99082e7202ad"
      },
      "execution_count": 18,
      "outputs": [
        {
          "output_type": "stream",
          "name": "stdout",
          "text": [
            "['casa', 'carro', 'caminhao']\n"
          ]
        }
      ]
    },
    {
      "cell_type": "code",
      "source": [
        "# Função lambda e listas - Ex.13\n",
        "\n",
        "nomes  = ['ana', 'carlos', 'mark', 'marry anne']\n",
        "\n",
        "filtro = list(map(lambda x: f'Olá {x}', nomes))\n",
        "print(filtro)"
      ],
      "metadata": {
        "colab": {
          "base_uri": "https://localhost:8080/"
        },
        "id": "ONHltntOMWJ6",
        "outputId": "906eb64b-162a-4c12-b656-c565267287d3"
      },
      "execution_count": 20,
      "outputs": [
        {
          "output_type": "stream",
          "name": "stdout",
          "text": [
            "['Olá ana', 'Olá carlos', 'Olá mark', 'Olá marry anne']\n"
          ]
        }
      ]
    },
    {
      "cell_type": "code",
      "source": [
        "# Função lambda e listas - Ex.14\n",
        "\n",
        "nomes  = ['ana', 'carlos', 'mark', 'marry anne']\n",
        "\n",
        "repetidas = list(map(lambda x: x*2, nomes))\n",
        "print(repetidas)"
      ],
      "metadata": {
        "colab": {
          "base_uri": "https://localhost:8080/"
        },
        "id": "2aOufsZ0OLKt",
        "outputId": "286a0b19-e87d-4460-e996-348c9d311044"
      },
      "execution_count": 21,
      "outputs": [
        {
          "output_type": "stream",
          "name": "stdout",
          "text": [
            "['anaana', 'carloscarlos', 'markmark', 'marry annemarry anne']\n"
          ]
        }
      ]
    },
    {
      "cell_type": "code",
      "source": [
        "# Função lambda e listas de tuplas - Ex.15\n",
        "\n",
        "lista_tupla = [('morango', 8), ('maça', 2), ('banana', 6), ('pera', 3)]\n",
        "ordena_tupla = sorted(lista_tupla, key = lambda x: x[1])\n",
        "print(ordena_tupla)"
      ],
      "metadata": {
        "colab": {
          "base_uri": "https://localhost:8080/"
        },
        "id": "9FSFeJYtOmAv",
        "outputId": "ac1abd82-9579-4f83-b118-eacd92c5c04b"
      },
      "execution_count": 23,
      "outputs": [
        {
          "output_type": "stream",
          "name": "stdout",
          "text": [
            "[('maça', 2), ('pera', 3), ('banana', 6), ('morango', 8)]\n"
          ]
        }
      ]
    },
    {
      "cell_type": "code",
      "source": [
        "# Função lambda e listas de tuplas - Ex.16\n",
        "\n",
        "lista_tupla = [('morango', 8, 100), ('maça', 2, 500), ('banana', 6, 521), ('pera', 3, 147)]\n",
        "ordena_tupla = sorted(lista_tupla, key = lambda x: x[2])\n",
        "print(ordena_tupla)"
      ],
      "metadata": {
        "colab": {
          "base_uri": "https://localhost:8080/"
        },
        "id": "uDHfgvz-PrvW",
        "outputId": "cf61ad2a-2b4d-4a6f-a113-85c852f49714"
      },
      "execution_count": 27,
      "outputs": [
        {
          "output_type": "stream",
          "name": "stdout",
          "text": [
            "[('morango', 8, 100), ('pera', 3, 147), ('maça', 2, 500), ('banana', 6, 521)]\n"
          ]
        }
      ]
    },
    {
      "cell_type": "markdown",
      "source": [
        "#Exercícios\n",
        "\n",
        "\n",
        "Usando estrutura com a função lambda, resolva os seguintes exercícios.\n",
        "\n",
        "1. Crie uma estrutura para selecionar apenas pessoas que possuem idade maior do que 30 anos.\n",
        "\n",
        "ana - 23\n",
        "bruno - 35\n",
        "carla - 19\n",
        "mark - 50\n",
        "marcelo - 38\n",
        "\n",
        "2. Crie uma estrutura para selecionar apenas as pessoas que iniciam o nome com M.\n",
        "\n",
        "3. Crie uma estrutura para filtar pessoas apenas com idade par.\n",
        "\n",
        "4. Crie uma estrutura para passar todos nomes para letras maiusculas."
      ],
      "metadata": {
        "id": "hrw9xcw9P-Tw"
      }
    },
    {
      "cell_type": "code",
      "source": [
        "# 1. Crie uma estrutura para selecionar apenas pessoas que possuem idade maior do que 30 anos (Ex. 17)\n",
        "\n",
        "lista_idade = [('ana', 30), ('bruno', 35), ('carla', 70), ('mark', 38), ('mark', 42)]\n",
        "\n",
        "seleciona_idade = list(filter(lambda idade: idade[1] > 30, lista_idade))\n",
        "print(seleciona_idade)"
      ],
      "metadata": {
        "colab": {
          "base_uri": "https://localhost:8080/"
        },
        "id": "j4ddyDWQYYi3",
        "outputId": "d9f59e7d-f1f8-4ab7-c1ef-1ad8ba3bb649"
      },
      "execution_count": 30,
      "outputs": [
        {
          "output_type": "stream",
          "name": "stdout",
          "text": [
            "[('bruno', 35), ('carla', 70), ('mark', 38), ('mark', 42)]\n"
          ]
        }
      ]
    },
    {
      "cell_type": "code",
      "source": [
        "# 2. Crie uma estrutura para selecionar apenas as pessoas que iniciam o nome com M. (Ex. 18)\n",
        "\n",
        "lista_idade = [('ana', 30), ('bruno', 35), ('carla', 70), ('mark', 38), ('mark', 42)]\n",
        "\n",
        "seleciona_nomes = list(filter(lambda nome: nome[0].startswith('m'), lista_idade))\n",
        "print(seleciona_nomes)"
      ],
      "metadata": {
        "colab": {
          "base_uri": "https://localhost:8080/"
        },
        "id": "XivpQTqdZoTt",
        "outputId": "173a00b6-188c-4af2-abcc-e73270ce5cbf"
      },
      "execution_count": 31,
      "outputs": [
        {
          "output_type": "stream",
          "name": "stdout",
          "text": [
            "[('mark', 38), ('mark', 42)]\n"
          ]
        }
      ]
    },
    {
      "cell_type": "code",
      "source": [
        "# 3. Crie uma estrutura para filtar pessoas apenas com idade par. (Ex. 19)\n",
        "\n",
        "lista_idade = [('ana', 30), ('bruno', 35), ('carla', 70), ('mark', 38), ('mark', 42)]\n",
        "\n",
        "seleciona_idade = list(filter(lambda nome: nome[1] % 2 == 0, lista_idade))\n",
        "print(seleciona_idade)"
      ],
      "metadata": {
        "colab": {
          "base_uri": "https://localhost:8080/"
        },
        "id": "7N_mlaHwaOKl",
        "outputId": "64d6287b-bcc9-449c-dcac-e56515d365aa"
      },
      "execution_count": 32,
      "outputs": [
        {
          "output_type": "stream",
          "name": "stdout",
          "text": [
            "[('ana', 30), ('carla', 70), ('mark', 38), ('mark', 42)]\n"
          ]
        }
      ]
    },
    {
      "cell_type": "code",
      "source": [
        "# 4. Crie uma estrutura para passar todos nomes para letras maiusculas. (Ex. 20)\n",
        "\n",
        "lista_idade = [('ana', 30), ('bruno', 35), ('carla', 70), ('mark', 38), ('mark', 42)]\n",
        "\n",
        "lista_maiusculas = list(map(lambda nome: nome[0].upper(), lista_idade))\n",
        "print(lista_maiusculas)"
      ],
      "metadata": {
        "colab": {
          "base_uri": "https://localhost:8080/"
        },
        "id": "pxWGqSi_av24",
        "outputId": "988d8a15-b522-45b9-b2f8-ab20972a71cd"
      },
      "execution_count": 34,
      "outputs": [
        {
          "output_type": "stream",
          "name": "stdout",
          "text": [
            "['ANA', 'BRUNO', 'CARLA', 'MARK', 'MARK']\n"
          ]
        }
      ]
    }
  ]
}