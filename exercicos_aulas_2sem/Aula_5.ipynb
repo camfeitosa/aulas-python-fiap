{
  "nbformat": 4,
  "nbformat_minor": 0,
  "metadata": {
    "colab": {
      "provenance": []
    },
    "kernelspec": {
      "name": "python3",
      "display_name": "Python 3"
    },
    "language_info": {
      "name": "python"
    }
  },
  "cells": [
    {
      "cell_type": "code",
      "execution_count": 1,
      "metadata": {
        "id": "_ugtAU_FntS-"
      },
      "outputs": [],
      "source": [
        "# Ex.1\n",
        "\n",
        "tupla = [('python básico', 500, 20),\n",
        "         ('deep learning', 400, 50),\n",
        "         ('visualização de dados', 600, 30),\n",
        "         ('análise estatística', 350, 60)]"
      ]
    },
    {
      "cell_type": "code",
      "source": [
        "# Ex.2\n",
        "\n",
        "taxas_aprovacao = []\n",
        "\n",
        "for video in tupla:\n",
        "  titulo, likes, dislikes = video\n",
        "  taxa_aprovacao = likes / (likes + dislikes)\n",
        "  taxas_aprovacao.append((titulo, likes, dislikes, taxa_aprovacao))\n",
        "\n",
        "print( taxas_aprovacao)"
      ],
      "metadata": {
        "colab": {
          "base_uri": "https://localhost:8080/"
        },
        "id": "8hX0B3NHoa2m",
        "outputId": "70f39da5-e969-46df-dafc-dea23a647566"
      },
      "execution_count": 3,
      "outputs": [
        {
          "output_type": "stream",
          "name": "stdout",
          "text": [
            "[('python básico', 500, 20, 0.9615384615384616), ('deep learning', 400, 50, 0.8888888888888888), ('visualização de dados', 600, 30, 0.9523809523809523), ('análise estatística', 350, 60, 0.8536585365853658)]\n"
          ]
        }
      ]
    },
    {
      "cell_type": "code",
      "source": [
        "# Ex. 3\n",
        "\n",
        "taxas_aprovacao = []\n",
        "\n",
        "for video in tupla:\n",
        "  titulo, likes, dislikes = video\n",
        "  taxa_aprovacao = likes / (likes + dislikes)\n",
        "  taxas_aprovacao.append((titulo, likes, dislikes, taxa_aprovacao))\n",
        "\n",
        "# Retornar a taxa mínima e a máxima\n",
        "\n",
        "maior_taxa = max(taxas_aprovacao)\n",
        "menor_taxa = min(taxas_aprovacao)\n",
        "\n",
        "i_maior_taxa = taxas_aprovacao.index(maior_taxa)\n",
        "i_menor_taxa = taxas_aprovacao.index(menor_taxa)\n",
        "\n",
        "video_maior_taxa = taxas_aprovacao[i_maior_taxa]\n",
        "video_menor_taxa = taxas_aprovacao[i_menor_taxa]\n"
      ],
      "metadata": {
        "colab": {
          "base_uri": "https://localhost:8080/"
        },
        "id": "3yAmJuuzqUXs",
        "outputId": "ec72ce53-931c-4f8b-9375-428561fa4ca6"
      },
      "execution_count": 8,
      "outputs": [
        {
          "output_type": "execute_result",
          "data": {
            "text/plain": [
              "('visualização de dados', 600, 30, 0.9523809523809523)"
            ]
          },
          "metadata": {},
          "execution_count": 8
        }
      ]
    },
    {
      "cell_type": "code",
      "source": [
        "# Ex. 4\n",
        "\n",
        "video1 = [('python básico', 500, 20),\n",
        "         ('deep learning', 400, 50),\n",
        "         ('visualização de dados', 600, 30),\n",
        "         ('análise estatística', 350, 60)]\n",
        "\n",
        "video2 = [('análise de componentes principais', 100, 20),\n",
        "         ('ChatGPT', 800, 20),\n",
        "         ('Rede Neural MLP', 550, 15)]\n",
        "\n",
        "video_concatenado = video1 + video2\n",
        "print(video_concatenado)"
      ],
      "metadata": {
        "colab": {
          "base_uri": "https://localhost:8080/"
        },
        "id": "NeSfTNOlrjwI",
        "outputId": "738f2032-9e3c-4890-931a-62d2660c69a8"
      },
      "execution_count": 9,
      "outputs": [
        {
          "output_type": "stream",
          "name": "stdout",
          "text": [
            "[('python básico', 500, 20), ('deep learning', 400, 50), ('visualização de dados', 600, 30), ('análise estatística', 350, 60), ('análise de componentes principais', 100, 20), ('ChatGPT', 800, 20), ('Rede Neural MLP', 550, 15)]\n"
          ]
        }
      ]
    },
    {
      "cell_type": "code",
      "source": [
        "# Ex. 5\n",
        "\n",
        "video_concatenado_lista = list(video_concatenado)\n",
        "\n",
        "video_concatenado_lista[2] = ('análise de componentes principais', 150, 25)\n",
        "video_concatenado_lista[4] = ('visualização de dados', 500, 50)\n",
        "video_atualizado = tuple(video_concatenado_lista)\n",
        "\n",
        "print(video_atualizado)"
      ],
      "metadata": {
        "colab": {
          "base_uri": "https://localhost:8080/"
        },
        "id": "2kaxkHdksJJ5",
        "outputId": "a2e29507-717e-46cc-e4af-af5e47206e76"
      },
      "execution_count": 12,
      "outputs": [
        {
          "output_type": "stream",
          "name": "stdout",
          "text": [
            "(('python básico', 500, 20), ('deep learning', 400, 50), ('análise de componentes principais', 150, 25), ('análise estatística', 350, 60), ('visualização de dados', 500, 50), ('ChatGPT', 800, 20), ('Rede Neural MLP', 550, 15))\n"
          ]
        }
      ]
    },
    {
      "cell_type": "code",
      "source": [
        "# Ex. 6\n",
        "\n",
        "video_concatenado\n",
        "\n",
        "taxas_aprovacao = []\n",
        "\n",
        "for video in video_concatenado:\n",
        "  likes = video[1]\n",
        "  dislikes = video[2]\n",
        "\n",
        "  total_likes += likes\n",
        "  total_dislikes += dislikes\n",
        "\n",
        "print(total_likes)\n",
        "print(total_dislikes)"
      ],
      "metadata": {
        "id": "aEKGVoyztePt"
      },
      "execution_count": null,
      "outputs": []
    },
    {
      "cell_type": "markdown",
      "source": [
        "# Aula 05"
      ],
      "metadata": {
        "id": "qhLRrWUivBal"
      }
    },
    {
      "cell_type": "code",
      "source": [
        "def soma(a, b):\n",
        "  operacao_soma = a + b\n",
        "  return operacao_soma\n",
        "\n",
        "print(soma(10, 40))\n",
        "\n",
        "# Exercícios\n",
        "\n",
        "#1. Crie uma função que retorne as quatro operações matemáticas básicas e retorne\n",
        "# os resultados das quatro operações\n"
      ],
      "metadata": {
        "colab": {
          "base_uri": "https://localhost:8080/"
        },
        "id": "JtE67gkIvDHd",
        "outputId": "d5e87641-a0b3-4d0d-bef4-2b7f361a860b"
      },
      "execution_count": 13,
      "outputs": [
        {
          "output_type": "stream",
          "name": "stdout",
          "text": [
            "50\n"
          ]
        }
      ]
    },
    {
      "cell_type": "code",
      "source": [
        "def operacoes_mat(a, b):\n",
        "\n",
        "  soma = a + b\n",
        "  subtracao = a - b\n",
        "  multiplicacao = a *b\n",
        "  divisao = a / b\n",
        "\n",
        "  return soma, subtracao, multiplicacao, divisao\n",
        "\n",
        "print(operacoes_mat(10, 5))"
      ],
      "metadata": {
        "colab": {
          "base_uri": "https://localhost:8080/"
        },
        "id": "wT2GPlsRvDJ9",
        "outputId": "79211a64-e567-4a24-a25f-4d41cd680514"
      },
      "execution_count": 14,
      "outputs": [
        {
          "output_type": "stream",
          "name": "stdout",
          "text": [
            "(15, 5, 50, 2.0)\n"
          ]
        }
      ]
    },
    {
      "cell_type": "code",
      "source": [
        "soma, sub, mult, div = operacoes_mat(10, 5)\n",
        "\n",
        "print(\"Soma\", soma)\n",
        "print(\"Subtração\", sub)\n",
        "print(\"Multiplicação\", mult)\n",
        "print(\"Divisão\", div)"
      ],
      "metadata": {
        "colab": {
          "base_uri": "https://localhost:8080/"
        },
        "id": "u8zNs7LovDMm",
        "outputId": "d970368c-aa7c-4186-fcc6-ad050f17b008"
      },
      "execution_count": 15,
      "outputs": [
        {
          "output_type": "stream",
          "name": "stdout",
          "text": [
            "Soma 15\n",
            "Subtração 5\n",
            "Multiplicação 50\n",
            "Divisão 2.0\n"
          ]
        }
      ]
    },
    {
      "cell_type": "code",
      "source": [
        "# Ex.1\n",
        "\n",
        "def calcular_media(lista):\n",
        "  \"Cálcula a média de uma lista de números.\"\n",
        "  media = sum(lista) / len(lista)\n",
        "  return media\n",
        "\n",
        "lista = [10, 20, 30, 40, 50]\n",
        "\n",
        "print(calcular_media(lista))"
      ],
      "metadata": {
        "colab": {
          "base_uri": "https://localhost:8080/"
        },
        "id": "E_-LJCw_vDPd",
        "outputId": "137cae92-1717-4022-a2ed-38c21153dd24"
      },
      "execution_count": 16,
      "outputs": [
        {
          "output_type": "stream",
          "name": "stdout",
          "text": [
            "30.0\n"
          ]
        }
      ]
    },
    {
      "cell_type": "code",
      "source": [
        "# Exercícios\n",
        "\n",
        "# Mostre como retornar a média entre três listas com comprimento diferente.\n",
        "# Crie uma estrutura para calcular a média da lista 1, 2 e 3. Em seguida, calcule\n",
        "# a média entre as três listas.\n",
        "\n",
        "def calcular_media(lista1, lista2, lista3):\n",
        "  \"Cálcula a média entre listas de números.\"\n",
        "  media_lista1 = sum(lista1) / len(lista1)\n",
        "  media_lista2 = sum(lista2) / len(lista2)\n",
        "  media_lista3 = sum(lista3) / len(lista3)\n",
        "\n",
        "  media_final = (media_lista1 + media_lista2 + media_lista3) / 3\n",
        "\n",
        "  return media_lista1, media_lista2, media_lista3, media_final\n",
        "\n",
        "lista1 = [10, 20, 30, 40, 50]\n",
        "lista2 = [10, 20, 30, 40, 50, 60, 70, 80, 90, 100]\n",
        "lista3 = [10, 20, 30, 40, 50, 60, 70, 80, 90, 100, 150, 200]\n",
        "\n",
        "print(calcular_media(lista1, lista2, lista3))\n",
        "\n",
        "media1, media2, media3, media_final = calcular_media(lista1, lista2, lista3)\n",
        "\n",
        "print(\"A média da lista 1: \", media1)\n",
        "print(\"A média da lista 2: \", media2)\n",
        "print(\"A média da lista 3: \", media3)\n",
        "print(\"A média final: \", media_final)"
      ],
      "metadata": {
        "colab": {
          "base_uri": "https://localhost:8080/"
        },
        "id": "TQ6OM22KvDSV",
        "outputId": "6ca46dfb-dc54-40f2-8a52-fc285ab0f7f9"
      },
      "execution_count": 19,
      "outputs": [
        {
          "output_type": "stream",
          "name": "stdout",
          "text": [
            "(30.0, 55.0, 75.0, 53.333333333333336)\n",
            "A média da lista 1:  30.0\n",
            "A média da lista 2:  55.0\n",
            "A média da lista 3:  75.0\n",
            "A média final:  53.333333333333336\n"
          ]
        }
      ]
    },
    {
      "cell_type": "code",
      "source": [
        "lista_cp_aluno_turma1 = [10, 6, 7.5]\n",
        "lista_cp_aluno_turma2 = [7, 5.5, 8]\n",
        "lista_cp_aluno_turma3 = [6.8, 7.3, 9.5]\n",
        "\n",
        "def media_alunos(lista1, lista2, lista3):\n",
        "  media_aluno1 = (((sum(lista1) / len(lista1)) * 0.4) + (8.5 * 0.6))\n",
        "  media_aluno2 = (((sum(lista2) / len(lista2)) * 0.4) + (9.2 * 0.6))\n",
        "  media_aluno3 = (((sum(lista3) / len(lista3)) * 0.4) + (7.8 * 0.6))\n",
        "\n",
        "  return media_aluno1, media_aluno2, media_aluno3\n",
        "\n",
        "media_A1, media_A2, media_A3 = media_alunos(lista_cp_aluno_turma1, lista_cp_aluno_turma2, lista_cp_aluno_turma3)\n",
        "\n",
        "print(\"Média aluno 1 - \", media_A1)\n",
        "print(\"Média aluno 1 - \", media_A2)\n",
        "print(\"Média aluno 1 - \", media_A3)"
      ],
      "metadata": {
        "colab": {
          "base_uri": "https://localhost:8080/"
        },
        "id": "9hKjdzQBI4Kj",
        "outputId": "855f4736-18bb-4a2d-cf47-f3f456947e2a"
      },
      "execution_count": 38,
      "outputs": [
        {
          "output_type": "stream",
          "name": "stdout",
          "text": [
            "Média aluno 1 -  8.233333333333333\n",
            "Média aluno 1 -  8.253333333333334\n",
            "Média aluno 1 -  7.826666666666666\n"
          ]
        }
      ]
    },
    {
      "cell_type": "code",
      "source": [
        "print(\"Média aluno 1\", media_alunos(lista_cp_aluno_turma1, lista_cp_aluno_turma2, lista_cp_aluno_turma3)[0])\n",
        "\n",
        "print(\"Média aluno 2\", media_alunos(lista_cp_aluno_turma1, lista_cp_aluno_turma2, lista_cp_aluno_turma3)[1])\n",
        "\n",
        "print(\"Média aluno 3\", media_alunos(lista_cp_aluno_turma1, lista_cp_aluno_turma2, lista_cp_aluno_turma3)[2])"
      ],
      "metadata": {
        "colab": {
          "base_uri": "https://localhost:8080/"
        },
        "id": "pbAhDVnRMzlJ",
        "outputId": "7f115a44-84d8-46ac-8635-57333b7e0820"
      },
      "execution_count": 41,
      "outputs": [
        {
          "output_type": "stream",
          "name": "stdout",
          "text": [
            "Média aluno 1 8.233333333333333\n",
            "Média aluno 2 8.253333333333334\n",
            "Média aluno 3 7.826666666666666\n"
          ]
        }
      ]
    },
    {
      "cell_type": "code",
      "source": [
        "lista_numeros = [-1, -2, -3, -4, -5, 10, 20, 30, 40, 50]\n",
        "\n",
        "def separa_positivo_negativo(lista):\n",
        "  positivo = [numero for numero in lista if numero > 0]\n",
        "  negativo = [numero for numero in lista if numero < 0]\n",
        "\n",
        "  return positivo, negativo\n",
        "\n",
        "valores_positivos, valores_negativos = separa_positivo_negativo(lista_numeros)\n",
        "print(valores_positivos)\n",
        "print(valores_negativos)"
      ],
      "metadata": {
        "colab": {
          "base_uri": "https://localhost:8080/"
        },
        "id": "nCT5YNPDNei7",
        "outputId": "7b1e06be-90a6-4da9-e905-858f232186f9"
      },
      "execution_count": 42,
      "outputs": [
        {
          "output_type": "stream",
          "name": "stdout",
          "text": [
            "[10, 20, 30, 40, 50]\n",
            "[-1, -2, -3, -4, -5]\n"
          ]
        }
      ]
    },
    {
      "cell_type": "code",
      "source": [
        "# Exercícios\n",
        "\n",
        "# 1. Crie uma estrutura para mostrar apenas valores de vendas acima de R$ 1000,00. Crie uma lista que retorne os valores acima do esperado\n",
        "# e uma lista para valores abaixo do esperado.\n",
        "\n",
        "lista = [1500, 1250, 1110, 999, 933, 2000, 560, 425]\n",
        "\n",
        "def verificacao_vendas(lista):\n",
        "\n",
        "  acima_esperado = [venda for venda in lista if venda >= 1000]\n",
        "  abaixo_esperado = [venda for venda in lista if venda < 1000]\n",
        "\n",
        "  return acima_esperado, abaixo_esperado\n",
        "\n",
        "print(\"Acima do esperado\", verificacao_vendas(lista)[0])\n",
        "print(\"Abaixo do esperado\", verificacao_vendas(lista)[1])"
      ],
      "metadata": {
        "colab": {
          "base_uri": "https://localhost:8080/"
        },
        "id": "5LLbo7maNemi",
        "outputId": "f87f3aea-c9e3-46b3-ff82-7d2f79ad5397"
      },
      "execution_count": 43,
      "outputs": [
        {
          "output_type": "stream",
          "name": "stdout",
          "text": [
            "Acima do esperado [1500, 1250, 1110, 2000]\n",
            "Abaixo do esperado [999, 933, 560, 425]\n"
          ]
        }
      ]
    },
    {
      "cell_type": "code",
      "source": [
        "lista_carros = [\n",
        "    {'modelo': 'Tesla', 'status': 'vendido'},\n",
        "    {'modelo': 'Nissan_Leaf', 'status': 'nao_vendido'},\n",
        "    {'modelo': 'Chevrolet_Bolt', 'status': 'nao_vendido'},\n",
        "    {'modelo': 'BMW I3', 'status': 'vendido'},\n",
        "    {'modelo': 'Hyundai kona', 'status': 'vendido'},\n",
        "    {'modelo': 'BYW', 'status': 'vendido'},\n",
        "    {'modelo': 'Song', 'status': 'nao_vendido'}\n",
        "]\n",
        "\n",
        "def carros_vendidos_nao_vendidos(lista):\n",
        "  \"Apresenta carros vendidos e não vendidos\"\n",
        "\n",
        "  carros_vendidos = [carro for carro in lista if carro['status'] == 'vendido']\n",
        "  carros_nao_vendidos = [carro for carro in lista if carro['status'] == 'nao_vendido']\n",
        "\n",
        "  return carros_vendidos, carros_nao_vendidos\n",
        "\n",
        "print(\"Carros vendidos\", carros_vendidos_nao_vendidos(lista_carros)[0])"
      ],
      "metadata": {
        "colab": {
          "base_uri": "https://localhost:8080/"
        },
        "id": "M3_bKAVqNepT",
        "outputId": "3935971e-c1de-40b4-a027-a5994edb18f8"
      },
      "execution_count": 48,
      "outputs": [
        {
          "output_type": "stream",
          "name": "stdout",
          "text": [
            "Carros vendidos [{'modelo': 'Tesla', 'status': 'vendido'}, {'modelo': 'BMW I3', 'status': 'vendido'}, {'modelo': 'Hyundai kona', 'status': 'vendido'}, {'modelo': 'BYW', 'status': 'vendido'}]\n"
          ]
        }
      ]
    },
    {
      "cell_type": "code",
      "source": [
        "print(\"Carros não vendidos\", carros_vendidos_nao_vendidos(lista_carros)[1])"
      ],
      "metadata": {
        "colab": {
          "base_uri": "https://localhost:8080/"
        },
        "id": "6ahGfiSANesM",
        "outputId": "9d2f2f88-d8f4-4df3-c637-36443bbb2ce5"
      },
      "execution_count": 49,
      "outputs": [
        {
          "output_type": "stream",
          "name": "stdout",
          "text": [
            "Carros não vendidos [{'modelo': 'Nissan_Leaf', 'status': 'nao_vendido'}, {'modelo': 'Chevrolet_Bolt', 'status': 'nao_vendido'}, {'modelo': 'Song', 'status': 'nao_vendido'}]\n"
          ]
        }
      ]
    },
    {
      "cell_type": "code",
      "source": [
        "carros_vendidos = carros_vendidos_nao_vendidos(lista_carros)[0]\n",
        "\n",
        "for i in carros_vendidos:\n",
        "  print(i)"
      ],
      "metadata": {
        "colab": {
          "base_uri": "https://localhost:8080/"
        },
        "id": "om5jmRRhVlci",
        "outputId": "f03566d7-c6eb-4e7a-ccab-eefe9c86629c"
      },
      "execution_count": 51,
      "outputs": [
        {
          "output_type": "stream",
          "name": "stdout",
          "text": [
            "{'modelo': 'Tesla', 'status': 'vendido'}\n",
            "{'modelo': 'BMW I3', 'status': 'vendido'}\n",
            "{'modelo': 'Hyundai kona', 'status': 'vendido'}\n",
            "{'modelo': 'BYW', 'status': 'vendido'}\n"
          ]
        }
      ]
    }
  ]
}