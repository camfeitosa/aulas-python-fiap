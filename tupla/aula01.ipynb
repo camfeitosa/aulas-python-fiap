{
 "cells": [
  {
   "cell_type": "code",
   "execution_count": 1,
   "metadata": {},
   "outputs": [
    {
     "data": {
      "text/plain": [
       "(1, 'dois', 2.0, (3, 5))"
      ]
     },
     "execution_count": 1,
     "metadata": {},
     "output_type": "execute_result"
    }
   ],
   "source": [
    "tupla = (1, 'dois', 2.0, (3,5))\n",
    "tupla"
   ]
  },
  {
   "cell_type": "code",
   "execution_count": 5,
   "metadata": {},
   "outputs": [
    {
     "data": {
      "text/plain": [
       "('c', 'a', 'm', 'i', 'l', 'a')"
      ]
     },
     "execution_count": 5,
     "metadata": {},
     "output_type": "execute_result"
    }
   ],
   "source": [
    "tupla = tuple('camila')\n",
    "tupla2 = ('teste')\n",
    "tupla\n",
    "\n"
   ]
  },
  {
   "cell_type": "code",
   "execution_count": 36,
   "metadata": {},
   "outputs": [
    {
     "name": "stdout",
     "output_type": "stream",
     "text": [
      "('maçã', 'banana', 'mamão', 'laranja', 'uva', 'manga', 'abacaxi', 'limão')\n"
     ]
    }
   ],
   "source": [
    "tupla = ('maçã', 'banana', 'laranja', 'uva')\n",
    "tupla2 = ('abacaxi','limão')\n",
    "\n",
    "tupla[1]\n",
    "\n",
    "lista_convertida = list(tupla)\n",
    "\n",
    "lista_convertida.insert(2, 'mamão')\n",
    "lista_convertida.append('manga')\n",
    "\n",
    "frutas = tuple(lista_convertida)\n",
    "\n",
    "nova_tupla = frutas + tupla2\n",
    "\n",
    "print(nova_tupla)\n"
   ]
  },
  {
   "cell_type": "code",
   "execution_count": 1,
   "metadata": {},
   "outputs": [
    {
     "name": "stdout",
     "output_type": "stream",
     "text": [
      "A média de Ana é 81.00\n",
      "A média de Greice é 61.00\n",
      "A média de Laura é 66.00\n"
     ]
    }
   ],
   "source": [
    "notas_alunos = [('Ana', 85, 70, 88), ('Greice', 25, 70, 88), ('Laura', 40, 70, 88)]\n",
    "\n",
    "# Calculando a média de cada aluno\n",
    "medias_alunos = [(aluno[0], sum(aluno[1:]) / len(aluno[1:])) for aluno in notas_alunos]\n",
    "\n",
    "# Exibindo as médias\n",
    "for aluno, media in medias_alunos:\n",
    "    print(f'A média de {aluno} é {media:.2f}')\n"
   ]
  },
  {
   "cell_type": "code",
   "execution_count": 18,
   "metadata": {},
   "outputs": [
    {
     "name": "stdout",
     "output_type": "stream",
     "text": [
      "('hamburguer', 'suco', 'pudim')\n",
      "('suco', 'pudim')\n",
      "('hamburguer', 'suco')\n",
      "pudim\n",
      "3\n",
      "eu vou comer hamburguer\n",
      "eu vou comer suco\n",
      "eu vou comer pudim\n",
      "Comi pra caramba!!!\n",
      "Comi hamburguer\n",
      "Comi suco\n",
      "Comi pudim\n",
      "comida hamburguer na posição 0\n",
      "comida suco na posição 1\n",
      "comida pudim na posição 2\n"
     ]
    }
   ],
   "source": [
    "# Tuplas são imutáveis\n",
    "# () - tupla\n",
    "# [] - lista\n",
    "# {} - dicionario\n",
    "\n",
    "tupla = ('hamburguer', 'suco', 'pudim')\n",
    "print(tupla)\n",
    "print(tupla[1:])\n",
    "print(tupla[0:2])\n",
    "print(tupla[-1])\n",
    "\n",
    "print(len(tupla))\n",
    "\n",
    "# Mais clássico\n",
    "for comida in tupla:\n",
    "  print(f'eu vou comer {comida}')\n",
    "print('Comi pra caramba!!!')\n",
    "\n",
    "# Com a posição\n",
    "for cont in range(0, len(tupla)):\n",
    "  print(f'Comi {tupla[cont]}')\n",
    "  \n",
    "# Com a posição (indice, elemento)\n",
    "for pos, comida in enumerate(tupla):\n",
    "  print(f'comida {comida} na posição {pos}')\n",
    "  "
   ]
  },
  {
   "cell_type": "code",
   "execution_count": 19,
   "metadata": {},
   "outputs": [
    {
     "name": "stdout",
     "output_type": "stream",
     "text": [
      "['hamburguer', 'pudim', 'suco']\n"
     ]
    }
   ],
   "source": [
    "print(sorted(tupla))"
   ]
  },
  {
   "cell_type": "code",
   "execution_count": 29,
   "metadata": {},
   "outputs": [
    {
     "name": "stdout",
     "output_type": "stream",
     "text": [
      "(2, 5, 4)\n",
      "7\n",
      "2\n",
      "(2, 5, 4, 3, 8, 5, 7)\n",
      "4\n",
      "5\n"
     ]
    }
   ],
   "source": [
    "a = (2, 5, 4)\n",
    "b = (3, 8, 5, 7)\n",
    "\n",
    "print(a)\n",
    "c = a + b #concatenou\n",
    "\n",
    "print(len(c))\n",
    "\n",
    "print(c.count(5)) # quantas vezes aparece tal elemento\n",
    "\n",
    "print(c)\n",
    "print(c.index(8)) # Primeira ocorrencia \n",
    "\n",
    "print(c.index(5, 2)) # Numero cinco a partir da posição 2\n"
   ]
  },
  {
   "cell_type": "code",
   "execution_count": 33,
   "metadata": {},
   "outputs": [
    {
     "name": "stdout",
     "output_type": "stream",
     "text": [
      "('Camila', 18, 'F')\n"
     ]
    }
   ],
   "source": [
    "pessoa = ('Camila', 18, 'F')\n",
    "del(pessoa) # apaga\n",
    "print(pessoa)"
   ]
  },
  {
   "cell_type": "code",
   "execution_count": 58,
   "metadata": {},
   "outputs": [],
   "source": [
    "numeros = ('zero', 'um', 'dois', 'três', 'quatro', 'cinco', 'seis', 'sete', 'oito', 'nove', 'dez', 'onze', 'doze', 'treze', 'quatorze', 'quinze', 'dezesseis', 'dezessete', 'dezoito', 'dezenove', 'vinte')\n",
    "\n",
    "user = int(input('Digite um número de 0 a 20: '))\n",
    "\n",
    "for cont in range(0, len(numeros)):\n",
    "  if(cont == user):\n",
    "    print(numeros[cont])\n",
    "  # else:\n",
    "  #   user = int(input('Informe um número válido: '))\n",
    "  \n",
    "\n",
    "\n",
    "\n"
   ]
  }
 ],
 "metadata": {
  "kernelspec": {
   "display_name": "Python 3",
   "language": "python",
   "name": "python3"
  },
  "language_info": {
   "codemirror_mode": {
    "name": "ipython",
    "version": 3
   },
   "file_extension": ".py",
   "mimetype": "text/x-python",
   "name": "python",
   "nbconvert_exporter": "python",
   "pygments_lexer": "ipython3",
   "version": "3.12.2"
  }
 },
 "nbformat": 4,
 "nbformat_minor": 2
}
