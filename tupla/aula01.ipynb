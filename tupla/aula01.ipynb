{
 "cells": [
  {
   "cell_type": "code",
   "execution_count": 1,
   "metadata": {},
   "outputs": [
    {
     "data": {
      "text/plain": [
       "(1, 'dois', 2.0, (3, 5))"
      ]
     },
     "execution_count": 1,
     "metadata": {},
     "output_type": "execute_result"
    }
   ],
   "source": [
    "tupla = (1, 'dois', 2.0, (3,5))\n",
    "tupla"
   ]
  },
  {
   "cell_type": "code",
   "execution_count": 5,
   "metadata": {},
   "outputs": [
    {
     "data": {
      "text/plain": [
       "('c', 'a', 'm', 'i', 'l', 'a')"
      ]
     },
     "execution_count": 5,
     "metadata": {},
     "output_type": "execute_result"
    }
   ],
   "source": [
    "tupla = tuple('camila')\n",
    "tupla2 = ('teste')\n",
    "tupla\n",
    "\n"
   ]
  },
  {
   "cell_type": "code",
   "execution_count": 36,
   "metadata": {},
   "outputs": [
    {
     "name": "stdout",
     "output_type": "stream",
     "text": [
      "('maçã', 'banana', 'mamão', 'laranja', 'uva', 'manga', 'abacaxi', 'limão')\n"
     ]
    }
   ],
   "source": [
    "tupla = ('maçã', 'banana', 'laranja', 'uva')\n",
    "tupla2 = ('abacaxi','limão')\n",
    "\n",
    "tupla[1]\n",
    "\n",
    "lista_convertida = list(tupla)\n",
    "\n",
    "lista_convertida.insert(2, 'mamão')\n",
    "lista_convertida.append('manga')\n",
    "\n",
    "frutas = tuple(lista_convertida)\n",
    "\n",
    "nova_tupla = frutas + tupla2\n",
    "\n",
    "print(nova_tupla)\n"
   ]
  },
  {
   "cell_type": "code",
   "execution_count": 54,
   "metadata": {},
   "outputs": [],
   "source": [
    "notas_alunos = [('Ana', 85, 70, 88), ('Greice', 25, 70, 88), ('Laura', 40, 70, 88)]\n",
    "\n",
    "media = []\n",
    "\n",
    "\n",
    "for aluno in notas_alunos:\n",
    "    nome = aluno[0]\n",
    "    notas = aluno[1:]\n",
    "    "
   ]
  }
 ],
 "metadata": {
  "kernelspec": {
   "display_name": "Python 3",
   "language": "python",
   "name": "python3"
  },
  "language_info": {
   "codemirror_mode": {
    "name": "ipython",
    "version": 3
   },
   "file_extension": ".py",
   "mimetype": "text/x-python",
   "name": "python",
   "nbconvert_exporter": "python",
   "pygments_lexer": "ipython3",
   "version": "3.12.3"
  }
 },
 "nbformat": 4,
 "nbformat_minor": 2
}
