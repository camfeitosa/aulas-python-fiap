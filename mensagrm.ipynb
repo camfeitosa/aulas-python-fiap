{
 "cells": [
  {
   "cell_type": "code",
   "execution_count": 1,
   "metadata": {},
   "outputs": [],
   "source": [
    "pip install pywhatkit"
   ]
  },
  {
   "cell_type": "code",
   "execution_count": 3,
   "metadata": {},
   "outputs": [
    {
     "name": "stdout",
     "output_type": "stream",
     "text": [
      "In 41 Seconds WhatsApp will open and after 15 Seconds Message will be Delivered!\n",
      "Mensagem enviada\n"
     ]
    }
   ],
   "source": [
    "import pywhatkit\n",
    "phone_number = '+5511999253947'\n",
    "message = 'Enviada pelo Python'\n",
    "hours = 20\n",
    "minutes = 15\n",
    "pywhatkit.sendwhatmsg(phone_number, message, hours, minutes)\n",
    "print('Mensagem enviada')"
   ]
  }
 ],
 "metadata": {
  "kernelspec": {
   "display_name": "Python 3",
   "language": "python",
   "name": "python3"
  },
  "language_info": {
   "codemirror_mode": {
    "name": "ipython",
    "version": 3
   },
   "file_extension": ".py",
   "mimetype": "text/x-python",
   "name": "python",
   "nbconvert_exporter": "python",
   "pygments_lexer": "ipython3",
   "version": "3.12.3"
  }
 },
 "nbformat": 4,
 "nbformat_minor": 2
}
